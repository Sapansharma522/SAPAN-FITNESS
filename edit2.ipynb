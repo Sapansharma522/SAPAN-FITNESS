{
 "cells": [
  {
   "cell_type": "markdown",
   "metadata": {},
   "source": [
    "### Minor Project - Heart Disease Prediction using Machine Learning"
   ]
  },
  {
   "cell_type": "markdown",
   "metadata": {},
   "source": [
    "#### Importing the required libraries"
   ]
  },
  {
   "cell_type": "code",
   "execution_count": 21,
   "metadata": {},
   "outputs": [
    {
     "name": "stdout",
     "output_type": "stream",
     "text": [
      "['.git', 'app.py', 'edit2.ipynb', 'first.html', 'heart.csv', 'heart.jpg', 'hospital.jpg', 'main.html']\n"
     ]
    }
   ],
   "source": [
    "import numpy as np # to work for arrays, linear algebra,fourier transformation\n",
    "import pandas as pd # data analysis and manipulation of tabular data \n",
    "import matplotlib.pyplot as plt #for plting the graphs\n",
    "import seaborn as sns #for making stastical graphs\n",
    "\n",
    "%matplotlib inline \n",
    "\n",
    "import os\n",
    "print(os.listdir())\n",
    "\n",
    "import warnings\n",
    "warnings.filterwarnings('ignore')"
   ]
  },
  {
   "cell_type": "code",
   "execution_count": 4,
   "metadata": {},
   "outputs": [],
   "source": [
    "import pandas as pd"
   ]
  },
  {
   "cell_type": "markdown",
   "metadata": {},
   "source": [
    "#### Importing the Dataset"
   ]
  },
  {
   "cell_type": "code",
   "execution_count": 6,
   "metadata": {},
   "outputs": [],
   "source": [
    "data = pd.read_csv(r\"C:\\Users\\Sapan\\OneDrive\\Documents\\MINOR PROJECT\\heart.csv\")"
   ]
  },
  {
   "cell_type": "code",
   "execution_count": 7,
   "metadata": {},
   "outputs": [
    {
     "data": {
      "text/plain": [
       "pandas.core.frame.DataFrame"
      ]
     },
     "execution_count": 7,
     "metadata": {},
     "output_type": "execute_result"
    }
   ],
   "source": [
    "type(data)"
   ]
  },
  {
   "cell_type": "code",
   "execution_count": 8,
   "metadata": {},
   "outputs": [
    {
     "data": {
      "text/plain": [
       "(303, 14)"
      ]
     },
     "execution_count": 8,
     "metadata": {},
     "output_type": "execute_result"
    }
   ],
   "source": [
    "data.shape"
   ]
  },
  {
   "cell_type": "code",
   "execution_count": 9,
   "metadata": {},
   "outputs": [
    {
     "data": {
      "text/html": [
       "<div>\n",
       "<style scoped>\n",
       "    .dataframe tbody tr th:only-of-type {\n",
       "        vertical-align: middle;\n",
       "    }\n",
       "\n",
       "    .dataframe tbody tr th {\n",
       "        vertical-align: top;\n",
       "    }\n",
       "\n",
       "    .dataframe thead th {\n",
       "        text-align: right;\n",
       "    }\n",
       "</style>\n",
       "<table border=\"1\" class=\"dataframe\">\n",
       "  <thead>\n",
       "    <tr style=\"text-align: right;\">\n",
       "      <th></th>\n",
       "      <th>age</th>\n",
       "      <th>sex</th>\n",
       "      <th>cp</th>\n",
       "      <th>trestbps</th>\n",
       "      <th>chol</th>\n",
       "      <th>fbs</th>\n",
       "      <th>restecg</th>\n",
       "      <th>thalach</th>\n",
       "      <th>exang</th>\n",
       "      <th>oldpeak</th>\n",
       "      <th>slope</th>\n",
       "      <th>ca</th>\n",
       "      <th>thal</th>\n",
       "      <th>target</th>\n",
       "    </tr>\n",
       "  </thead>\n",
       "  <tbody>\n",
       "    <tr>\n",
       "      <th>0</th>\n",
       "      <td>63</td>\n",
       "      <td>1</td>\n",
       "      <td>3</td>\n",
       "      <td>145</td>\n",
       "      <td>233</td>\n",
       "      <td>1</td>\n",
       "      <td>0</td>\n",
       "      <td>150</td>\n",
       "      <td>0</td>\n",
       "      <td>2.3</td>\n",
       "      <td>0</td>\n",
       "      <td>0</td>\n",
       "      <td>1</td>\n",
       "      <td>1</td>\n",
       "    </tr>\n",
       "    <tr>\n",
       "      <th>1</th>\n",
       "      <td>37</td>\n",
       "      <td>1</td>\n",
       "      <td>2</td>\n",
       "      <td>130</td>\n",
       "      <td>250</td>\n",
       "      <td>0</td>\n",
       "      <td>1</td>\n",
       "      <td>187</td>\n",
       "      <td>0</td>\n",
       "      <td>3.5</td>\n",
       "      <td>0</td>\n",
       "      <td>0</td>\n",
       "      <td>2</td>\n",
       "      <td>1</td>\n",
       "    </tr>\n",
       "    <tr>\n",
       "      <th>2</th>\n",
       "      <td>41</td>\n",
       "      <td>0</td>\n",
       "      <td>1</td>\n",
       "      <td>130</td>\n",
       "      <td>204</td>\n",
       "      <td>0</td>\n",
       "      <td>0</td>\n",
       "      <td>172</td>\n",
       "      <td>0</td>\n",
       "      <td>1.4</td>\n",
       "      <td>2</td>\n",
       "      <td>0</td>\n",
       "      <td>2</td>\n",
       "      <td>1</td>\n",
       "    </tr>\n",
       "    <tr>\n",
       "      <th>3</th>\n",
       "      <td>56</td>\n",
       "      <td>1</td>\n",
       "      <td>1</td>\n",
       "      <td>120</td>\n",
       "      <td>236</td>\n",
       "      <td>0</td>\n",
       "      <td>1</td>\n",
       "      <td>178</td>\n",
       "      <td>0</td>\n",
       "      <td>0.8</td>\n",
       "      <td>2</td>\n",
       "      <td>0</td>\n",
       "      <td>2</td>\n",
       "      <td>1</td>\n",
       "    </tr>\n",
       "    <tr>\n",
       "      <th>4</th>\n",
       "      <td>57</td>\n",
       "      <td>0</td>\n",
       "      <td>0</td>\n",
       "      <td>120</td>\n",
       "      <td>354</td>\n",
       "      <td>0</td>\n",
       "      <td>1</td>\n",
       "      <td>163</td>\n",
       "      <td>1</td>\n",
       "      <td>0.6</td>\n",
       "      <td>2</td>\n",
       "      <td>0</td>\n",
       "      <td>2</td>\n",
       "      <td>1</td>\n",
       "    </tr>\n",
       "  </tbody>\n",
       "</table>\n",
       "</div>"
      ],
      "text/plain": [
       "   age  sex  cp  trestbps  chol  fbs  restecg  thalach  exang  oldpeak  slope  \\\n",
       "0   63    1   3       145   233    1        0      150      0      2.3      0   \n",
       "1   37    1   2       130   250    0        1      187      0      3.5      0   \n",
       "2   41    0   1       130   204    0        0      172      0      1.4      2   \n",
       "3   56    1   1       120   236    0        1      178      0      0.8      2   \n",
       "4   57    0   0       120   354    0        1      163      1      0.6      2   \n",
       "\n",
       "   ca  thal  target  \n",
       "0   0     1       1  \n",
       "1   0     2       1  \n",
       "2   0     2       1  \n",
       "3   0     2       1  \n",
       "4   0     2       1  "
      ]
     },
     "execution_count": 9,
     "metadata": {},
     "output_type": "execute_result"
    }
   ],
   "source": [
    "data.head(5)"
   ]
  },
  {
   "cell_type": "code",
   "execution_count": 11,
   "metadata": {},
   "outputs": [
    {
     "data": {
      "text/html": [
       "<div>\n",
       "<style scoped>\n",
       "    .dataframe tbody tr th:only-of-type {\n",
       "        vertical-align: middle;\n",
       "    }\n",
       "\n",
       "    .dataframe tbody tr th {\n",
       "        vertical-align: top;\n",
       "    }\n",
       "\n",
       "    .dataframe thead th {\n",
       "        text-align: right;\n",
       "    }\n",
       "</style>\n",
       "<table border=\"1\" class=\"dataframe\">\n",
       "  <thead>\n",
       "    <tr style=\"text-align: right;\">\n",
       "      <th></th>\n",
       "      <th>age</th>\n",
       "      <th>sex</th>\n",
       "      <th>cp</th>\n",
       "      <th>trestbps</th>\n",
       "      <th>chol</th>\n",
       "      <th>fbs</th>\n",
       "      <th>restecg</th>\n",
       "      <th>thalach</th>\n",
       "      <th>exang</th>\n",
       "      <th>oldpeak</th>\n",
       "      <th>slope</th>\n",
       "      <th>ca</th>\n",
       "      <th>thal</th>\n",
       "      <th>target</th>\n",
       "    </tr>\n",
       "  </thead>\n",
       "  <tbody>\n",
       "    <tr>\n",
       "      <th>235</th>\n",
       "      <td>51</td>\n",
       "      <td>1</td>\n",
       "      <td>0</td>\n",
       "      <td>140</td>\n",
       "      <td>299</td>\n",
       "      <td>0</td>\n",
       "      <td>1</td>\n",
       "      <td>173</td>\n",
       "      <td>1</td>\n",
       "      <td>1.6</td>\n",
       "      <td>2</td>\n",
       "      <td>0</td>\n",
       "      <td>3</td>\n",
       "      <td>0</td>\n",
       "    </tr>\n",
       "    <tr>\n",
       "      <th>86</th>\n",
       "      <td>68</td>\n",
       "      <td>1</td>\n",
       "      <td>2</td>\n",
       "      <td>118</td>\n",
       "      <td>277</td>\n",
       "      <td>0</td>\n",
       "      <td>1</td>\n",
       "      <td>151</td>\n",
       "      <td>0</td>\n",
       "      <td>1.0</td>\n",
       "      <td>2</td>\n",
       "      <td>1</td>\n",
       "      <td>3</td>\n",
       "      <td>1</td>\n",
       "    </tr>\n",
       "    <tr>\n",
       "      <th>4</th>\n",
       "      <td>57</td>\n",
       "      <td>0</td>\n",
       "      <td>0</td>\n",
       "      <td>120</td>\n",
       "      <td>354</td>\n",
       "      <td>0</td>\n",
       "      <td>1</td>\n",
       "      <td>163</td>\n",
       "      <td>1</td>\n",
       "      <td>0.6</td>\n",
       "      <td>2</td>\n",
       "      <td>0</td>\n",
       "      <td>2</td>\n",
       "      <td>1</td>\n",
       "    </tr>\n",
       "    <tr>\n",
       "      <th>141</th>\n",
       "      <td>43</td>\n",
       "      <td>1</td>\n",
       "      <td>0</td>\n",
       "      <td>115</td>\n",
       "      <td>303</td>\n",
       "      <td>0</td>\n",
       "      <td>1</td>\n",
       "      <td>181</td>\n",
       "      <td>0</td>\n",
       "      <td>1.2</td>\n",
       "      <td>1</td>\n",
       "      <td>0</td>\n",
       "      <td>2</td>\n",
       "      <td>1</td>\n",
       "    </tr>\n",
       "    <tr>\n",
       "      <th>197</th>\n",
       "      <td>67</td>\n",
       "      <td>1</td>\n",
       "      <td>0</td>\n",
       "      <td>125</td>\n",
       "      <td>254</td>\n",
       "      <td>1</td>\n",
       "      <td>1</td>\n",
       "      <td>163</td>\n",
       "      <td>0</td>\n",
       "      <td>0.2</td>\n",
       "      <td>1</td>\n",
       "      <td>2</td>\n",
       "      <td>3</td>\n",
       "      <td>0</td>\n",
       "    </tr>\n",
       "  </tbody>\n",
       "</table>\n",
       "</div>"
      ],
      "text/plain": [
       "     age  sex  cp  trestbps  chol  fbs  restecg  thalach  exang  oldpeak  \\\n",
       "235   51    1   0       140   299    0        1      173      1      1.6   \n",
       "86    68    1   2       118   277    0        1      151      0      1.0   \n",
       "4     57    0   0       120   354    0        1      163      1      0.6   \n",
       "141   43    1   0       115   303    0        1      181      0      1.2   \n",
       "197   67    1   0       125   254    1        1      163      0      0.2   \n",
       "\n",
       "     slope  ca  thal  target  \n",
       "235      2   0     3       0  \n",
       "86       2   1     3       1  \n",
       "4        2   0     2       1  \n",
       "141      1   0     2       1  \n",
       "197      1   2     3       0  "
      ]
     },
     "execution_count": 11,
     "metadata": {},
     "output_type": "execute_result"
    }
   ],
   "source": [
    "data.sample(5)"
   ]
  },
  {
   "cell_type": "code",
   "execution_count": 12,
   "metadata": {},
   "outputs": [
    {
     "data": {
      "text/html": [
       "<div>\n",
       "<style scoped>\n",
       "    .dataframe tbody tr th:only-of-type {\n",
       "        vertical-align: middle;\n",
       "    }\n",
       "\n",
       "    .dataframe tbody tr th {\n",
       "        vertical-align: top;\n",
       "    }\n",
       "\n",
       "    .dataframe thead th {\n",
       "        text-align: right;\n",
       "    }\n",
       "</style>\n",
       "<table border=\"1\" class=\"dataframe\">\n",
       "  <thead>\n",
       "    <tr style=\"text-align: right;\">\n",
       "      <th></th>\n",
       "      <th>age</th>\n",
       "      <th>sex</th>\n",
       "      <th>cp</th>\n",
       "      <th>trestbps</th>\n",
       "      <th>chol</th>\n",
       "      <th>fbs</th>\n",
       "      <th>restecg</th>\n",
       "      <th>thalach</th>\n",
       "      <th>exang</th>\n",
       "      <th>oldpeak</th>\n",
       "      <th>slope</th>\n",
       "      <th>ca</th>\n",
       "      <th>thal</th>\n",
       "      <th>target</th>\n",
       "    </tr>\n",
       "  </thead>\n",
       "  <tbody>\n",
       "    <tr>\n",
       "      <th>count</th>\n",
       "      <td>303.000000</td>\n",
       "      <td>303.000000</td>\n",
       "      <td>303.000000</td>\n",
       "      <td>303.000000</td>\n",
       "      <td>303.000000</td>\n",
       "      <td>303.000000</td>\n",
       "      <td>303.000000</td>\n",
       "      <td>303.000000</td>\n",
       "      <td>303.000000</td>\n",
       "      <td>303.000000</td>\n",
       "      <td>303.000000</td>\n",
       "      <td>303.000000</td>\n",
       "      <td>303.000000</td>\n",
       "      <td>303.000000</td>\n",
       "    </tr>\n",
       "    <tr>\n",
       "      <th>mean</th>\n",
       "      <td>54.366337</td>\n",
       "      <td>0.683168</td>\n",
       "      <td>0.966997</td>\n",
       "      <td>131.623762</td>\n",
       "      <td>246.264026</td>\n",
       "      <td>0.148515</td>\n",
       "      <td>0.528053</td>\n",
       "      <td>149.646865</td>\n",
       "      <td>0.326733</td>\n",
       "      <td>1.039604</td>\n",
       "      <td>1.399340</td>\n",
       "      <td>0.729373</td>\n",
       "      <td>2.313531</td>\n",
       "      <td>0.544554</td>\n",
       "    </tr>\n",
       "    <tr>\n",
       "      <th>std</th>\n",
       "      <td>9.082101</td>\n",
       "      <td>0.466011</td>\n",
       "      <td>1.032052</td>\n",
       "      <td>17.538143</td>\n",
       "      <td>51.830751</td>\n",
       "      <td>0.356198</td>\n",
       "      <td>0.525860</td>\n",
       "      <td>22.905161</td>\n",
       "      <td>0.469794</td>\n",
       "      <td>1.161075</td>\n",
       "      <td>0.616226</td>\n",
       "      <td>1.022606</td>\n",
       "      <td>0.612277</td>\n",
       "      <td>0.498835</td>\n",
       "    </tr>\n",
       "    <tr>\n",
       "      <th>min</th>\n",
       "      <td>29.000000</td>\n",
       "      <td>0.000000</td>\n",
       "      <td>0.000000</td>\n",
       "      <td>94.000000</td>\n",
       "      <td>126.000000</td>\n",
       "      <td>0.000000</td>\n",
       "      <td>0.000000</td>\n",
       "      <td>71.000000</td>\n",
       "      <td>0.000000</td>\n",
       "      <td>0.000000</td>\n",
       "      <td>0.000000</td>\n",
       "      <td>0.000000</td>\n",
       "      <td>0.000000</td>\n",
       "      <td>0.000000</td>\n",
       "    </tr>\n",
       "    <tr>\n",
       "      <th>25%</th>\n",
       "      <td>47.500000</td>\n",
       "      <td>0.000000</td>\n",
       "      <td>0.000000</td>\n",
       "      <td>120.000000</td>\n",
       "      <td>211.000000</td>\n",
       "      <td>0.000000</td>\n",
       "      <td>0.000000</td>\n",
       "      <td>133.500000</td>\n",
       "      <td>0.000000</td>\n",
       "      <td>0.000000</td>\n",
       "      <td>1.000000</td>\n",
       "      <td>0.000000</td>\n",
       "      <td>2.000000</td>\n",
       "      <td>0.000000</td>\n",
       "    </tr>\n",
       "    <tr>\n",
       "      <th>50%</th>\n",
       "      <td>55.000000</td>\n",
       "      <td>1.000000</td>\n",
       "      <td>1.000000</td>\n",
       "      <td>130.000000</td>\n",
       "      <td>240.000000</td>\n",
       "      <td>0.000000</td>\n",
       "      <td>1.000000</td>\n",
       "      <td>153.000000</td>\n",
       "      <td>0.000000</td>\n",
       "      <td>0.800000</td>\n",
       "      <td>1.000000</td>\n",
       "      <td>0.000000</td>\n",
       "      <td>2.000000</td>\n",
       "      <td>1.000000</td>\n",
       "    </tr>\n",
       "    <tr>\n",
       "      <th>75%</th>\n",
       "      <td>61.000000</td>\n",
       "      <td>1.000000</td>\n",
       "      <td>2.000000</td>\n",
       "      <td>140.000000</td>\n",
       "      <td>274.500000</td>\n",
       "      <td>0.000000</td>\n",
       "      <td>1.000000</td>\n",
       "      <td>166.000000</td>\n",
       "      <td>1.000000</td>\n",
       "      <td>1.600000</td>\n",
       "      <td>2.000000</td>\n",
       "      <td>1.000000</td>\n",
       "      <td>3.000000</td>\n",
       "      <td>1.000000</td>\n",
       "    </tr>\n",
       "    <tr>\n",
       "      <th>max</th>\n",
       "      <td>77.000000</td>\n",
       "      <td>1.000000</td>\n",
       "      <td>3.000000</td>\n",
       "      <td>200.000000</td>\n",
       "      <td>564.000000</td>\n",
       "      <td>1.000000</td>\n",
       "      <td>2.000000</td>\n",
       "      <td>202.000000</td>\n",
       "      <td>1.000000</td>\n",
       "      <td>6.200000</td>\n",
       "      <td>2.000000</td>\n",
       "      <td>4.000000</td>\n",
       "      <td>3.000000</td>\n",
       "      <td>1.000000</td>\n",
       "    </tr>\n",
       "  </tbody>\n",
       "</table>\n",
       "</div>"
      ],
      "text/plain": [
       "              age         sex          cp    trestbps        chol         fbs  \\\n",
       "count  303.000000  303.000000  303.000000  303.000000  303.000000  303.000000   \n",
       "mean    54.366337    0.683168    0.966997  131.623762  246.264026    0.148515   \n",
       "std      9.082101    0.466011    1.032052   17.538143   51.830751    0.356198   \n",
       "min     29.000000    0.000000    0.000000   94.000000  126.000000    0.000000   \n",
       "25%     47.500000    0.000000    0.000000  120.000000  211.000000    0.000000   \n",
       "50%     55.000000    1.000000    1.000000  130.000000  240.000000    0.000000   \n",
       "75%     61.000000    1.000000    2.000000  140.000000  274.500000    0.000000   \n",
       "max     77.000000    1.000000    3.000000  200.000000  564.000000    1.000000   \n",
       "\n",
       "          restecg     thalach       exang     oldpeak       slope          ca  \\\n",
       "count  303.000000  303.000000  303.000000  303.000000  303.000000  303.000000   \n",
       "mean     0.528053  149.646865    0.326733    1.039604    1.399340    0.729373   \n",
       "std      0.525860   22.905161    0.469794    1.161075    0.616226    1.022606   \n",
       "min      0.000000   71.000000    0.000000    0.000000    0.000000    0.000000   \n",
       "25%      0.000000  133.500000    0.000000    0.000000    1.000000    0.000000   \n",
       "50%      1.000000  153.000000    0.000000    0.800000    1.000000    0.000000   \n",
       "75%      1.000000  166.000000    1.000000    1.600000    2.000000    1.000000   \n",
       "max      2.000000  202.000000    1.000000    6.200000    2.000000    4.000000   \n",
       "\n",
       "             thal      target  \n",
       "count  303.000000  303.000000  \n",
       "mean     2.313531    0.544554  \n",
       "std      0.612277    0.498835  \n",
       "min      0.000000    0.000000  \n",
       "25%      2.000000    0.000000  \n",
       "50%      2.000000    1.000000  \n",
       "75%      3.000000    1.000000  \n",
       "max      3.000000    1.000000  "
      ]
     },
     "execution_count": 12,
     "metadata": {},
     "output_type": "execute_result"
    }
   ],
   "source": [
    "data.describe()"
   ]
  },
  {
   "cell_type": "code",
   "execution_count": 13,
   "metadata": {},
   "outputs": [
    {
     "name": "stdout",
     "output_type": "stream",
     "text": [
      "<class 'pandas.core.frame.DataFrame'>\n",
      "RangeIndex: 303 entries, 0 to 302\n",
      "Data columns (total 14 columns):\n",
      " #   Column    Non-Null Count  Dtype  \n",
      "---  ------    --------------  -----  \n",
      " 0   age       303 non-null    int64  \n",
      " 1   sex       303 non-null    int64  \n",
      " 2   cp        303 non-null    int64  \n",
      " 3   trestbps  303 non-null    int64  \n",
      " 4   chol      303 non-null    int64  \n",
      " 5   fbs       303 non-null    int64  \n",
      " 6   restecg   303 non-null    int64  \n",
      " 7   thalach   303 non-null    int64  \n",
      " 8   exang     303 non-null    int64  \n",
      " 9   oldpeak   303 non-null    float64\n",
      " 10  slope     303 non-null    int64  \n",
      " 11  ca        303 non-null    int64  \n",
      " 12  thal      303 non-null    int64  \n",
      " 13  target    303 non-null    int64  \n",
      "dtypes: float64(1), int64(13)\n",
      "memory usage: 33.3 KB\n"
     ]
    }
   ],
   "source": [
    "data.info()"
   ]
  },
  {
   "cell_type": "markdown",
   "metadata": {},
   "source": [
    "#### Understanding the columns of the dataset"
   ]
  },
  {
   "cell_type": "code",
   "execution_count": 14,
   "metadata": {},
   "outputs": [
    {
     "name": "stdout",
     "output_type": "stream",
     "text": [
      "age:\t\t\tage\n",
      "sex:\t\t\t1: male, 0: female\n",
      "cp:\t\t\tchest pain type, 1: typical angina, 2: atypical angina, 3: non-anginal pain, 4: asymptomatic\n",
      "trestbps:\t\t\tresting blood pressure\n",
      "chol:\t\t\t serum cholestoral in mg/dl\n",
      "fbs:\t\t\tfasting blood sugar > 120 mg/dl\n",
      "restecg:\t\t\tresting electrocardiographic results (values 0,1,2)\n",
      "thalach:\t\t\t maximum heart rate achieved\n",
      "exang:\t\t\texercise induced angina\n",
      "oldpeak:\t\t\toldpeak = ST depression induced by exercise relative to rest\n",
      "slope:\t\t\tthe slope of the peak exercise ST segment\n",
      "ca:\t\t\tnumber of major vessels (0-3) colored by flourosopy\n",
      "thal:\t\t\tthal: 3 = normal; 6 = fixed defect; 7 = reversable defect\n"
     ]
    }
   ],
   "source": [
    "info = [\"age\",\"1: male, 0: female\",\"chest pain type, 1: typical angina, 2: atypical angina, 3: non-anginal pain, 4: asymptomatic\",\"resting blood pressure\",\" serum cholestoral in mg/dl\",\"fasting blood sugar > 120 mg/dl\",\"resting electrocardiographic results (values 0,1,2)\",\" maximum heart rate achieved\",\"exercise induced angina\",\"oldpeak = ST depression induced by exercise relative to rest\",\"the slope of the peak exercise ST segment\",\"number of major vessels (0-3) colored by flourosopy\",\"thal: 3 = normal; 6 = fixed defect; 7 = reversable defect\"]\n",
    "\n",
    "\n",
    "\n",
    "for i in range(len(info)):\n",
    "    print(data.columns[i]+\":\\t\\t\\t\"+info[i])"
   ]
  },
  {
   "cell_type": "code",
   "execution_count": 15,
   "metadata": {
    "scrolled": true
   },
   "outputs": [
    {
     "data": {
      "text/plain": [
       "count    303.000000\n",
       "mean       0.544554\n",
       "std        0.498835\n",
       "min        0.000000\n",
       "25%        0.000000\n",
       "50%        1.000000\n",
       "75%        1.000000\n",
       "max        1.000000\n",
       "Name: target, dtype: float64"
      ]
     },
     "execution_count": 15,
     "metadata": {},
     "output_type": "execute_result"
    }
   ],
   "source": [
    "data['target'].describe()"
   ]
  },
  {
   "cell_type": "code",
   "execution_count": 16,
   "metadata": {},
   "outputs": [
    {
     "data": {
      "text/plain": [
       "array([1, 0], dtype=int64)"
      ]
     },
     "execution_count": 16,
     "metadata": {},
     "output_type": "execute_result"
    }
   ],
   "source": [
    "data[\"target\"].unique()"
   ]
  },
  {
   "cell_type": "markdown",
   "metadata": {},
   "source": [
    "#### So this is a classification problem with the target variable having values '0' and '1'"
   ]
  },
  {
   "cell_type": "markdown",
   "metadata": {},
   "source": [
    "### Now checking correlation between columns"
   ]
  },
  {
   "cell_type": "code",
   "execution_count": 17,
   "metadata": {},
   "outputs": [
    {
     "name": "stdout",
     "output_type": "stream",
     "text": [
      "target      1.000000\n",
      "exang       0.436757\n",
      "cp          0.433798\n",
      "oldpeak     0.430696\n",
      "thalach     0.421741\n",
      "ca          0.391724\n",
      "slope       0.345877\n",
      "thal        0.344029\n",
      "sex         0.280937\n",
      "age         0.225439\n",
      "trestbps    0.144931\n",
      "restecg     0.137230\n",
      "chol        0.085239\n",
      "fbs         0.028046\n",
      "Name: target, dtype: float64\n"
     ]
    }
   ],
   "source": [
    "print(data.corr()[\"target\"].abs().sort_values(ascending=False))"
   ]
  },
  {
   "cell_type": "markdown",
   "metadata": {},
   "source": [
    "## Exploratory Data Analysis (EDA)"
   ]
  },
  {
   "cell_type": "markdown",
   "metadata": {},
   "source": [
    "### first analysing the target variable "
   ]
  },
  {
   "cell_type": "code",
   "execution_count": 19,
   "metadata": {},
   "outputs": [],
   "source": [
    "import seaborn as sns"
   ]
  },
  {
   "cell_type": "code",
   "execution_count": 20,
   "metadata": {},
   "outputs": [
    {
     "name": "stdout",
     "output_type": "stream",
     "text": [
      "1    165\n",
      "0    138\n",
      "Name: target, dtype: int64\n"
     ]
    },
    {
     "data": {
      "image/png": "[encoded data removed]",
      "text/plain": [
       "<Figure size 640x480 with 1 Axes>"
      ]
     },
     "metadata": {},
     "output_type": "display_data"
    }
   ],
   "source": [
    "y = data[\"target\"]\n",
    "\n",
    "sns.countplot(y)\n",
    "\n",
    "\n",
    "target_temp = data.target.value_counts()\n",
    "\n",
    "print(target_temp)"
   ]
  },
  {
   "cell_type": "code",
   "execution_count": 14,
   "metadata": {},
   "outputs": [
    {
     "name": "stdout",
     "output_type": "stream",
     "text": [
      "Percentage of patience without heart problems: 45.54\n",
      "Percentage of patience with heart problems: 54.46\n"
     ]
    }
   ],
   "source": [
    "print(\"Percentage of patience without heart problems: \"+str(round(target_temp[0]*100/303,2)))\n",
    "print(\"Percentage of patience with heart problems: \"+str(round(target_temp[1]*100/303,2)))\n"
   ]
  },
  {
   "cell_type": "markdown",
   "metadata": {},
   "source": [
    "### Now we will analyse 'sex', 'cp', 'fbs\", 'restecg', exang', 'slope', 'ca', and 'thal' feactures"
   ]
  },
  {
   "cell_type": "markdown",
   "metadata": {},
   "source": [
    "#### Analysing the 'Sex' feacture"
   ]
  },
  {
   "cell_type": "code",
   "execution_count": 16,
   "metadata": {},
   "outputs": [
    {
     "data": {
      "text/plain": [
       "array([1, 0], dtype=int64)"
      ]
     },
     "execution_count": 16,
     "metadata": {},
     "output_type": "execute_result"
    }
   ],
   "source": [
    "data[\"sex\"].unique()"
   ]
  },
  {
   "cell_type": "markdown",
   "metadata": {},
   "source": [
    "As expected, the 'sex' feacture has 2 uinque feactures"
   ]
  },
  {
   "cell_type": "code",
   "execution_count": 17,
   "metadata": {},
   "outputs": [
    {
     "data": {
      "text/plain": [
       "<AxesSubplot:xlabel='sex', ylabel='target'>"
      ]
     },
     "execution_count": 17,
     "metadata": {},
     "output_type": "execute_result"
    },
    {
     "data": {
      "image/png": "[encoded data removed]",
      "text/plain": [
       "<Figure size 432x288 with 1 Axes>"
      ]
     },
     "metadata": {
      "needs_background": "light"
     },
     "output_type": "display_data"
    }
   ],
   "source": [
    "# now plotting the sex ratio\n",
    "sns.barplot(data[\"sex\"],y)"
   ]
  },
  {
   "cell_type": "markdown",
   "metadata": {},
   "source": [
    "#### Analysing the 'Chest Pain Type' feacture"
   ]
  },
  {
   "cell_type": "code",
   "execution_count": 18,
   "metadata": {},
   "outputs": [
    {
     "data": {
      "text/plain": [
       "array([3, 2, 1, 0], dtype=int64)"
      ]
     },
     "execution_count": 18,
     "metadata": {},
     "output_type": "execute_result"
    }
   ],
   "source": [
    "data[\"cp\"].unique()"
   ]
  },
  {
   "cell_type": "code",
   "execution_count": 19,
   "metadata": {},
   "outputs": [],
   "source": [
    "#the cp feacture has values from 0 to 3"
   ]
  },
  {
   "cell_type": "code",
   "execution_count": 20,
   "metadata": {},
   "outputs": [
    {
     "data": {
      "text/plain": [
       "<AxesSubplot:xlabel='cp', ylabel='target'>"
      ]
     },
     "execution_count": 20,
     "metadata": {},
     "output_type": "execute_result"
    },
    {
     "data": {
      "image/png": "[encoded data removed]",
      "text/plain": [
       "<Figure size 432x288 with 1 Axes>"
      ]
     },
     "metadata": {
      "needs_background": "light"
     },
     "output_type": "display_data"
    }
   ],
   "source": [
    "#plotting the graph\n",
    "sns.barplot(data[\"cp\"],y)"
   ]
  },
  {
   "cell_type": "markdown",
   "metadata": {},
   "source": [
    "#### Analysing the 'Fasting Blood Sugar (FBS)' feacture"
   ]
  },
  {
   "cell_type": "code",
   "execution_count": 22,
   "metadata": {},
   "outputs": [
    {
     "data": {
      "text/plain": [
       "count    303.000000\n",
       "mean       0.148515\n",
       "std        0.356198\n",
       "min        0.000000\n",
       "25%        0.000000\n",
       "50%        0.000000\n",
       "75%        0.000000\n",
       "max        1.000000\n",
       "Name: fbs, dtype: float64"
      ]
     },
     "execution_count": 22,
     "metadata": {},
     "output_type": "execute_result"
    }
   ],
   "source": [
    "data[\"fbs\"].describe()"
   ]
  },
  {
   "cell_type": "code",
   "execution_count": 23,
   "metadata": {},
   "outputs": [
    {
     "data": {
      "text/plain": [
       "array([1, 0], dtype=int64)"
      ]
     },
     "execution_count": 23,
     "metadata": {},
     "output_type": "execute_result"
    }
   ],
   "source": [
    "data[\"fbs\"].unique()"
   ]
  },
  {
   "cell_type": "code",
   "execution_count": 24,
   "metadata": {},
   "outputs": [
    {
     "data": {
      "text/plain": [
       "<AxesSubplot:xlabel='fbs', ylabel='target'>"
      ]
     },
     "execution_count": 24,
     "metadata": {},
     "output_type": "execute_result"
    },
    {
     "data": {
      "image/png": "[encoded data removed]",
      "text/plain": [
       "<Figure size 432x288 with 1 Axes>"
      ]
     },
     "metadata": {
      "needs_background": "light"
     },
     "output_type": "display_data"
    }
   ],
   "source": [
    "#plotting the graph\n",
    "sns.barplot(data[\"fbs\"],y)"
   ]
  },
  {
   "cell_type": "markdown",
   "metadata": {},
   "source": [
    "#### Analysing the 'Resting Electro Cardiographic Results (restecg)' feacture"
   ]
  },
  {
   "cell_type": "code",
   "execution_count": 26,
   "metadata": {},
   "outputs": [
    {
     "data": {
      "text/plain": [
       "array([0, 1, 2], dtype=int64)"
      ]
     },
     "execution_count": 26,
     "metadata": {},
     "output_type": "execute_result"
    }
   ],
   "source": [
    "data[\"restecg\"].unique()"
   ]
  },
  {
   "cell_type": "code",
   "execution_count": 27,
   "metadata": {},
   "outputs": [
    {
     "data": {
      "text/plain": [
       "<AxesSubplot:xlabel='restecg', ylabel='target'>"
      ]
     },
     "execution_count": 27,
     "metadata": {},
     "output_type": "execute_result"
    },
    {
     "data": {
      "image/png": "[encoded data removed]",
      "text/plain": [
       "<Figure size 432x288 with 1 Axes>"
      ]
     },
     "metadata": {
      "needs_background": "light"
     },
     "output_type": "display_data"
    }
   ],
   "source": [
    "sns.barplot(data[\"restecg\"],y)"
   ]
  },
  {
   "cell_type": "code",
   "execution_count": 28,
   "metadata": {},
   "outputs": [],
   "source": [
    "# we find out that the people with the restecg '1' and '0' \n",
    "# are much more likely to have a heart disease than with restecg '2'"
   ]
  },
  {
   "cell_type": "markdown",
   "metadata": {},
   "source": [
    "#### Analysing the 'Exercise - induced angina (exang)' feacture"
   ]
  },
  {
   "cell_type": "code",
   "execution_count": 30,
   "metadata": {},
   "outputs": [
    {
     "data": {
      "text/plain": [
       "array([0, 1], dtype=int64)"
      ]
     },
     "execution_count": 30,
     "metadata": {},
     "output_type": "execute_result"
    }
   ],
   "source": [
    "data[\"exang\"].unique()"
   ]
  },
  {
   "cell_type": "code",
   "execution_count": 31,
   "metadata": {},
   "outputs": [
    {
     "data": {
      "text/plain": [
       "<AxesSubplot:xlabel='exang', ylabel='target'>"
      ]
     },
     "execution_count": 31,
     "metadata": {},
     "output_type": "execute_result"
    },
    {
     "data": {
      "image/png": "[encoded data removed]",
      "text/plain": [
       "<Figure size 432x288 with 1 Axes>"
      ]
     },
     "metadata": {
      "needs_background": "light"
     },
     "output_type": "display_data"
    }
   ],
   "source": [
    "sns.barplot(data[\"exang\"],y)"
   ]
  },
  {
   "cell_type": "code",
   "execution_count": 32,
   "metadata": {},
   "outputs": [],
   "source": [
    "#people with exang =1 i.e. Exercise included angina are\n",
    "# much less likely to have heart problems "
   ]
  },
  {
   "cell_type": "markdown",
   "metadata": {},
   "source": [
    "#### Analysing the 'Slope (slope of the peak exericse)' feacture"
   ]
  },
  {
   "cell_type": "code",
   "execution_count": 34,
   "metadata": {},
   "outputs": [
    {
     "data": {
      "text/plain": [
       "array([0, 2, 1], dtype=int64)"
      ]
     },
     "execution_count": 34,
     "metadata": {},
     "output_type": "execute_result"
    }
   ],
   "source": [
    "data[\"slope\"].unique()"
   ]
  },
  {
   "cell_type": "code",
   "execution_count": 35,
   "metadata": {},
   "outputs": [
    {
     "data": {
      "text/plain": [
       "<AxesSubplot:xlabel='slope', ylabel='target'>"
      ]
     },
     "execution_count": 35,
     "metadata": {},
     "output_type": "execute_result"
    },
    {
     "data": {
      "image/png": "[encoded data removed]",
      "text/plain": [
       "<Figure size 432x288 with 1 Axes>"
      ]
     },
     "metadata": {
      "needs_background": "light"
     },
     "output_type": "display_data"
    }
   ],
   "source": [
    "sns.barplot(data[\"slope\"],y)"
   ]
  },
  {
   "cell_type": "code",
   "execution_count": 36,
   "metadata": {},
   "outputs": [],
   "source": [
    "# So, slope '2' causes heart pain much more than\n",
    "# slope '0' and '1'"
   ]
  },
  {
   "cell_type": "markdown",
   "metadata": {},
   "source": [
    "#### Analysing the 'ca ( no of major vessels)' feacture"
   ]
  },
  {
   "cell_type": "code",
   "execution_count": 38,
   "metadata": {},
   "outputs": [
    {
     "data": {
      "text/plain": [
       "array([0, 2, 1, 3, 4], dtype=int64)"
      ]
     },
     "execution_count": 38,
     "metadata": {},
     "output_type": "execute_result"
    }
   ],
   "source": [
    "data[\"ca\"].unique()"
   ]
  },
  {
   "cell_type": "code",
   "execution_count": 39,
   "metadata": {},
   "outputs": [
    {
     "data": {
      "text/plain": [
       "<AxesSubplot:xlabel='ca', ylabel='count'>"
      ]
     },
     "execution_count": 39,
     "metadata": {},
     "output_type": "execute_result"
    },
    {
     "data": {
      "image/png": "[encoded data removed]",
      "text/plain": [
       "<Figure size 432x288 with 1 Axes>"
      ]
     },
     "metadata": {
      "needs_background": "light"
     },
     "output_type": "display_data"
    }
   ],
   "source": [
    "sns.countplot(data[\"ca\"])"
   ]
  },
  {
   "cell_type": "code",
   "execution_count": 40,
   "metadata": {},
   "outputs": [
    {
     "data": {
      "text/plain": [
       "<AxesSubplot:xlabel='ca', ylabel='target'>"
      ]
     },
     "execution_count": 40,
     "metadata": {},
     "output_type": "execute_result"
    },
    {
     "data": {
      "image/png": "[encoded data removed]",
      "text/plain": [
       "<Figure size 432x288 with 1 Axes>"
      ]
     },
     "metadata": {
      "needs_background": "light"
     },
     "output_type": "display_data"
    }
   ],
   "source": [
    "sns.barplot(data[\"ca\"],y)"
   ]
  },
  {
   "cell_type": "markdown",
   "metadata": {},
   "source": [
    "#### Analysing the 'thal' feacture"
   ]
  },
  {
   "cell_type": "code",
   "execution_count": 42,
   "metadata": {},
   "outputs": [
    {
     "data": {
      "text/plain": [
       "array([1, 2, 3, 0], dtype=int64)"
      ]
     },
     "execution_count": 42,
     "metadata": {},
     "output_type": "execute_result"
    }
   ],
   "source": [
    "data[\"thal\"].unique()"
   ]
  },
  {
   "cell_type": "code",
   "execution_count": 43,
   "metadata": {},
   "outputs": [
    {
     "data": {
      "text/plain": [
       "<AxesSubplot:xlabel='thal', ylabel='target'>"
      ]
     },
     "execution_count": 43,
     "metadata": {},
     "output_type": "execute_result"
    },
    {
     "data": {
      "image/png": "[encoded data removed]",
      "text/plain": [
       "<Figure size 432x288 with 1 Axes>"
      ]
     },
     "metadata": {
      "needs_background": "light"
     },
     "output_type": "display_data"
    }
   ],
   "source": [
    "sns.barplot(data[\"thal\"],y)"
   ]
  },
  {
   "cell_type": "code",
   "execution_count": 44,
   "metadata": {},
   "outputs": [
    {
     "data": {
      "text/plain": [
       "<AxesSubplot:xlabel='thal', ylabel='Density'>"
      ]
     },
     "execution_count": 44,
     "metadata": {},
     "output_type": "execute_result"
    },
    {
     "data": {
      "image/png": "[encoded data removed]",
      "text/plain": [
       "<Figure size 432x288 with 1 Axes>"
      ]
     },
     "metadata": {
      "needs_background": "light"
     },
     "output_type": "display_data"
    }
   ],
   "source": [
    "sns.distplot(data[\"thal\"])"
   ]
  },
  {
   "cell_type": "markdown",
   "metadata": {},
   "source": [
    "#### Training and Testing our model"
   ]
  },
  {
   "cell_type": "code",
   "execution_count": 46,
   "metadata": {},
   "outputs": [],
   "source": [
    "from sklearn.model_selection import train_test_split\n",
    "\n",
    "predictors = data.drop(\"target\",axis=1)\n",
    "target = data[\"target\"]\n",
    "\n",
    "X_train,X_test,Y_train,Y_test = train_test_split(predictors,target,test_size=0.20,random_state=0)"
   ]
  },
  {
   "cell_type": "code",
   "execution_count": 47,
   "metadata": {},
   "outputs": [
    {
     "data": {
      "text/plain": [
       "(242, 13)"
      ]
     },
     "execution_count": 47,
     "metadata": {},
     "output_type": "execute_result"
    }
   ],
   "source": [
    "X_train.shape"
   ]
  },
  {
   "cell_type": "code",
   "execution_count": 48,
   "metadata": {},
   "outputs": [
    {
     "data": {
      "text/plain": [
       "(61, 13)"
      ]
     },
     "execution_count": 48,
     "metadata": {},
     "output_type": "execute_result"
    }
   ],
   "source": [
    "X_test.shape"
   ]
  },
  {
   "cell_type": "code",
   "execution_count": 49,
   "metadata": {},
   "outputs": [
    {
     "data": {
      "text/plain": [
       "(242,)"
      ]
     },
     "execution_count": 49,
     "metadata": {},
     "output_type": "execute_result"
    }
   ],
   "source": [
    "Y_train.shape\n"
   ]
  },
  {
   "cell_type": "code",
   "execution_count": 50,
   "metadata": {},
   "outputs": [
    {
     "data": {
      "text/plain": [
       "(61,)"
      ]
     },
     "execution_count": 50,
     "metadata": {},
     "output_type": "execute_result"
    }
   ],
   "source": [
    "Y_test.shape"
   ]
  },
  {
   "cell_type": "markdown",
   "metadata": {},
   "source": [
    "#### V Model fitting"
   ]
  },
  {
   "cell_type": "code",
   "execution_count": 52,
   "metadata": {},
   "outputs": [],
   "source": [
    "from sklearn.metrics import accuracy_score"
   ]
  },
  {
   "cell_type": "markdown",
   "metadata": {},
   "source": [
    "#### Logistic Regression"
   ]
  },
  {
   "cell_type": "code",
   "execution_count": 54,
   "metadata": {},
   "outputs": [],
   "source": [
    "from sklearn.linear_model import LogisticRegression\n",
    "\n",
    "lr = LogisticRegression()\n",
    "\n",
    "lr.fit(X_train,Y_train)\n",
    "\n",
    "Y_pred_lr = lr.predict(X_test)"
   ]
  },
  {
   "cell_type": "code",
   "execution_count": 55,
   "metadata": {},
   "outputs": [
    {
     "data": {
      "text/plain": [
       "(61,)"
      ]
     },
     "execution_count": 55,
     "metadata": {},
     "output_type": "execute_result"
    }
   ],
   "source": [
    "Y_pred_lr.shape"
   ]
  },
  {
   "cell_type": "code",
   "execution_count": 56,
   "metadata": {},
   "outputs": [
    {
     "name": "stdout",
     "output_type": "stream",
     "text": [
      "The accuracy score achieved using Logistic Regression is: 85.25 %\n"
     ]
    }
   ],
   "source": [
    "score_lr = round(accuracy_score(Y_pred_lr,Y_test)*100,2)\n",
    "\n",
    "print(\"The accuracy score achieved using Logistic Regression is: \"+str(score_lr)+\" %\")"
   ]
  },
  {
   "cell_type": "markdown",
   "metadata": {},
   "source": [
    "#### Naive Bayes"
   ]
  },
  {
   "cell_type": "code",
   "execution_count": 58,
   "metadata": {},
   "outputs": [],
   "source": [
    "from sklearn.naive_bayes import GaussianNB\n",
    "\n",
    "nb = GaussianNB()\n",
    "\n",
    "nb.fit(X_train,Y_train)\n",
    "\n",
    "Y_pred_nb = nb.predict(X_test)"
   ]
  },
  {
   "cell_type": "code",
   "execution_count": 59,
   "metadata": {},
   "outputs": [
    {
     "data": {
      "text/plain": [
       "(61,)"
      ]
     },
     "execution_count": 59,
     "metadata": {},
     "output_type": "execute_result"
    }
   ],
   "source": [
    "Y_pred_nb.shape"
   ]
  },
  {
   "cell_type": "code",
   "execution_count": 60,
   "metadata": {},
   "outputs": [
    {
     "name": "stdout",
     "output_type": "stream",
     "text": [
      "The accuracy score achieved using Naive Bayes is: 85.25 %\n"
     ]
    }
   ],
   "source": [
    "score_nb = round(accuracy_score(Y_pred_nb,Y_test)*100,2)\n",
    "\n",
    "print(\"The accuracy score achieved using Naive Bayes is: \"+str(score_nb)+\" %\")"
   ]
  },
  {
   "cell_type": "markdown",
   "metadata": {},
   "source": [
    "#### Support Vector Machine (SVM)"
   ]
  },
  {
   "cell_type": "code",
   "execution_count": 62,
   "metadata": {},
   "outputs": [],
   "source": [
    "from sklearn import svm\n",
    "\n",
    "sv = svm.SVC(kernel='linear')\n",
    "\n",
    "sv.fit(X_train, Y_train)\n",
    "\n",
    "Y_pred_svm = sv.predict(X_test)"
   ]
  },
  {
   "cell_type": "code",
   "execution_count": 63,
   "metadata": {},
   "outputs": [
    {
     "data": {
      "text/plain": [
       "(61,)"
      ]
     },
     "execution_count": 63,
     "metadata": {},
     "output_type": "execute_result"
    }
   ],
   "source": [
    "Y_pred_svm.shape"
   ]
  },
  {
   "cell_type": "code",
   "execution_count": 64,
   "metadata": {},
   "outputs": [
    {
     "name": "stdout",
     "output_type": "stream",
     "text": [
      "The accuracy score achieved using Linear SVM is: 81.97 %\n"
     ]
    }
   ],
   "source": [
    "score_svm = round(accuracy_score(Y_pred_svm,Y_test)*100,2)\n",
    "\n",
    "print(\"The accuracy score achieved using Linear SVM is: \"+str(score_svm)+\" %\")"
   ]
  },
  {
   "cell_type": "markdown",
   "metadata": {},
   "source": [
    "#### K Nearest Neighbors (KNN)"
   ]
  },
  {
   "cell_type": "code",
   "execution_count": 66,
   "metadata": {},
   "outputs": [],
   "source": [
    "from sklearn.neighbors import KNeighborsClassifier\n",
    "\n",
    "knn = KNeighborsClassifier(n_neighbors=7)\n",
    "knn.fit(X_train,Y_train)\n",
    "Y_pred_knn=knn.predict(X_test)"
   ]
  },
  {
   "cell_type": "code",
   "execution_count": 67,
   "metadata": {},
   "outputs": [
    {
     "data": {
      "text/plain": [
       "(61,)"
      ]
     },
     "execution_count": 67,
     "metadata": {},
     "output_type": "execute_result"
    }
   ],
   "source": [
    "Y_pred_knn.shape"
   ]
  },
  {
   "cell_type": "code",
   "execution_count": 68,
   "metadata": {},
   "outputs": [
    {
     "name": "stdout",
     "output_type": "stream",
     "text": [
      "The accuracy score achieved using KNN is: 67.21 %\n"
     ]
    }
   ],
   "source": [
    "score_knn = round(accuracy_score(Y_pred_knn,Y_test)*100,2)\n",
    "\n",
    "print(\"The accuracy score achieved using KNN is: \"+str(score_knn)+\" %\")"
   ]
  },
  {
   "cell_type": "markdown",
   "metadata": {},
   "source": [
    "#### Decision Tree"
   ]
  },
  {
   "cell_type": "code",
   "execution_count": 70,
   "metadata": {},
   "outputs": [],
   "source": [
    "from sklearn.tree import DecisionTreeClassifier\n",
    "\n",
    "max_accuracy = 0\n",
    "\n",
    "\n",
    "for x in range(200):\n",
    "    dt = DecisionTreeClassifier(random_state=x)\n",
    "    dt.fit(X_train,Y_train)\n",
    "    Y_pred_dt = dt.predict(X_test)\n",
    "    current_accuracy = round(accuracy_score(Y_pred_dt,Y_test)*100,2)\n",
    "    if(current_accuracy>max_accuracy):\n",
    "        max_accuracy = current_accuracy\n",
    "        best_x = x\n",
    "        \n",
    "#print(max_accuracy)\n",
    "#print(best_x)\n",
    "\n",
    "\n",
    "dt = DecisionTreeClassifier(random_state=best_x)\n",
    "dt.fit(X_train,Y_train)\n",
    "Y_pred_dt = dt.predict(X_test)"
   ]
  },
  {
   "cell_type": "code",
   "execution_count": 71,
   "metadata": {},
   "outputs": [
    {
     "name": "stdout",
     "output_type": "stream",
     "text": [
      "(61,)\n"
     ]
    }
   ],
   "source": [
    "print(Y_pred_dt.shape)"
   ]
  },
  {
   "cell_type": "code",
   "execution_count": 72,
   "metadata": {},
   "outputs": [
    {
     "name": "stdout",
     "output_type": "stream",
     "text": [
      "The accuracy score achieved using Decision Tree is: 81.97 %\n"
     ]
    }
   ],
   "source": [
    "score_dt = round(accuracy_score(Y_pred_dt,Y_test)*100,2)\n",
    "\n",
    "print(\"The accuracy score achieved using Decision Tree is: \"+str(score_dt)+\" %\")"
   ]
  },
  {
   "cell_type": "markdown",
   "metadata": {},
   "source": [
    "#### Random Forest"
   ]
  },
  {
   "cell_type": "code",
   "execution_count": 74,
   "metadata": {},
   "outputs": [],
   "source": [
    "from sklearn.ensemble import RandomForestClassifier\n",
    "\n",
    "max_accuracy = 0\n",
    "\n",
    "\n",
    "for x in range(2000):\n",
    "    rf = RandomForestClassifier(random_state=x)\n",
    "    rf.fit(X_train,Y_train)\n",
    "    Y_pred_rf = rf.predict(X_test)\n",
    "    current_accuracy = round(accuracy_score(Y_pred_rf,Y_test)*100,2)\n",
    "    if(current_accuracy>max_accuracy):\n",
    "        max_accuracy = current_accuracy\n",
    "        best_x = x\n",
    "        \n",
    "#print(max_accuracy)\n",
    "#print(best_x)\n",
    "\n",
    "rf = RandomForestClassifier(random_state=best_x)\n",
    "rf.fit(X_train,Y_train)\n",
    "Y_pred_rf = rf.predict(X_test)"
   ]
  },
  {
   "cell_type": "code",
   "execution_count": 75,
   "metadata": {},
   "outputs": [
    {
     "data": {
      "text/plain": [
       "(61,)"
      ]
     },
     "execution_count": 75,
     "metadata": {},
     "output_type": "execute_result"
    }
   ],
   "source": [
    "Y_pred_rf.shape"
   ]
  },
  {
   "cell_type": "code",
   "execution_count": 76,
   "metadata": {},
   "outputs": [
    {
     "name": "stdout",
     "output_type": "stream",
     "text": [
      "The accuracy score achieved using Decision Tree is: 90.16 %\n"
     ]
    }
   ],
   "source": [
    "score_rf = round(accuracy_score(Y_pred_rf,Y_test)*100,2)\n",
    "\n",
    "print(\"The accuracy score achieved using Decision Tree is: \"+str(score_rf)+\" %\")"
   ]
  },
  {
   "cell_type": "markdown",
   "metadata": {},
   "source": [
    "#### XGBoost"
   ]
  },
  {
   "cell_type": "code",
   "execution_count": 78,
   "metadata": {},
   "outputs": [
    {
     "name": "stdout",
     "output_type": "stream",
     "text": [
      "[22:39:35] WARNING: C:/Users/Administrator/workspace/xgboost-win64_release_1.3.0/src/learner.cc:1061: Starting in XGBoost 1.3.0, the default evaluation metric used with the objective 'binary:logistic' was changed from 'error' to 'logloss'. Explicitly set eval_metric if you'd like to restore the old behavior.\n"
     ]
    }
   ],
   "source": [
    "import xgboost as xgb\n",
    "\n",
    "xgb_model = xgb.XGBClassifier(objective=\"binary:logistic\", random_state=42)\n",
    "xgb_model.fit(X_train, Y_train)\n",
    "\n",
    "Y_pred_xgb = xgb_model.predict(X_test)"
   ]
  },
  {
   "cell_type": "code",
   "execution_count": 79,
   "metadata": {},
   "outputs": [
    {
     "data": {
      "text/plain": [
       "(61,)"
      ]
     },
     "execution_count": 79,
     "metadata": {},
     "output_type": "execute_result"
    }
   ],
   "source": [
    "Y_pred_xgb.shape"
   ]
  },
  {
   "cell_type": "code",
   "execution_count": 80,
   "metadata": {},
   "outputs": [
    {
     "name": "stdout",
     "output_type": "stream",
     "text": [
      "The accuracy score achieved using XGBoost is: 78.69 %\n"
     ]
    }
   ],
   "source": [
    "score_xgb = round(accuracy_score(Y_pred_xgb,Y_test)*100,2)\n",
    "\n",
    "print(\"The accuracy score achieved using XGBoost is: \"+str(score_xgb)+\" %\")"
   ]
  },
  {
   "cell_type": "markdown",
   "metadata": {},
   "source": [
    "#### Neural Network"
   ]
  },
  {
   "cell_type": "code",
   "execution_count": 82,
   "metadata": {},
   "outputs": [],
   "source": [
    "from keras.models import Sequential\n",
    "from keras.layers import Dense"
   ]
  },
  {
   "cell_type": "code",
   "execution_count": 83,
   "metadata": {},
   "outputs": [],
   "source": [
    "# https://stats.stackexchange.com/a/136542 helped a lot in avoiding overfitting\n",
    "\n",
    "model = Sequential()\n",
    "model.add(Dense(11,activation='relu',input_dim=13))\n",
    "model.add(Dense(1,activation='sigmoid'))\n",
    "\n",
    "model.compile(loss='binary_crossentropy',optimizer='adam',metrics=['accuracy'])"
   ]
  },
  {
   "cell_type": "code",
   "execution_count": 84,
   "metadata": {},
   "outputs": [
    {
     "name": "stdout",
     "output_type": "stream",
     "text": [
      "Epoch 1/300\n",
      "8/8 [==============================] - 0s 5ms/step - loss: 4.0566 - accuracy: 0.4008\n",
      "Epoch 2/300\n",
      "8/8 [==============================] - 0s 4ms/step - loss: 3.0559 - accuracy: 0.3264\n",
      "Epoch 3/300\n",
      "8/8 [==============================] - 0s 4ms/step - loss: 2.9309 - accuracy: 0.3636\n",
      "Epoch 4/300\n",
      "8/8 [==============================] - 0s 4ms/step - loss: 2.8482 - accuracy: 0.3430\n",
      "Epoch 5/300\n",
      "8/8 [==============================] - 0s 6ms/step - loss: 2.7083 - accuracy: 0.3471\n",
      "Epoch 6/300\n",
      "8/8 [==============================] - 0s 4ms/step - loss: 2.6177 - accuracy: 0.3388\n",
      "Epoch 7/300\n",
      "8/8 [==============================] - 0s 5ms/step - loss: 2.5596 - accuracy: 0.3512\n",
      "Epoch 8/300\n",
      "8/8 [==============================] - 0s 3ms/step - loss: 2.4365 - accuracy: 0.3388\n",
      "Epoch 9/300\n",
      "8/8 [==============================] - 0s 4ms/step - loss: 2.3477 - accuracy: 0.3430\n",
      "Epoch 10/300\n",
      "8/8 [==============================] - 0s 3ms/step - loss: 2.2716 - accuracy: 0.3471\n",
      "Epoch 11/300\n",
      "8/8 [==============================] - 0s 3ms/step - loss: 2.2075 - accuracy: 0.3264\n",
      "Epoch 12/300\n",
      "8/8 [==============================] - 0s 2ms/step - loss: 2.0959 - accuracy: 0.3512\n",
      "Epoch 13/300\n",
      "8/8 [==============================] - 0s 2ms/step - loss: 2.0296 - accuracy: 0.3430\n",
      "Epoch 14/300\n",
      "8/8 [==============================] - 0s 2ms/step - loss: 1.9498 - accuracy: 0.3430\n",
      "Epoch 15/300\n",
      "8/8 [==============================] - 0s 3ms/step - loss: 1.8673 - accuracy: 0.3512\n",
      "Epoch 16/300\n",
      "8/8 [==============================] - 0s 3ms/step - loss: 1.7936 - accuracy: 0.3471\n",
      "Epoch 17/300\n",
      "8/8 [==============================] - 0s 5ms/step - loss: 1.7222 - accuracy: 0.3554\n",
      "Epoch 18/300\n",
      "8/8 [==============================] - 0s 3ms/step - loss: 1.6622 - accuracy: 0.3554\n",
      "Epoch 19/300\n",
      "8/8 [==============================] - 0s 2ms/step - loss: 1.5907 - accuracy: 0.3595\n",
      "Epoch 20/300\n",
      "8/8 [==============================] - 0s 2ms/step - loss: 1.5259 - accuracy: 0.3678\n",
      "Epoch 21/300\n",
      "8/8 [==============================] - 0s 3ms/step - loss: 1.4576 - accuracy: 0.3595\n",
      "Epoch 22/300\n",
      "8/8 [==============================] - 0s 3ms/step - loss: 1.3979 - accuracy: 0.3678\n",
      "Epoch 23/300\n",
      "8/8 [==============================] - 0s 3ms/step - loss: 1.3535 - accuracy: 0.3843\n",
      "Epoch 24/300\n",
      "8/8 [==============================] - 0s 2ms/step - loss: 1.2846 - accuracy: 0.3843\n",
      "Epoch 25/300\n",
      "8/8 [==============================] - 0s 3ms/step - loss: 1.2308 - accuracy: 0.3926\n",
      "Epoch 26/300\n",
      "8/8 [==============================] - 0s 3ms/step - loss: 1.1793 - accuracy: 0.3843\n",
      "Epoch 27/300\n",
      "8/8 [==============================] - 0s 3ms/step - loss: 1.1292 - accuracy: 0.3967\n",
      "Epoch 28/300\n",
      "8/8 [==============================] - 0s 2ms/step - loss: 1.0819 - accuracy: 0.4008\n",
      "Epoch 29/300\n",
      "8/8 [==============================] - 0s 3ms/step - loss: 1.0362 - accuracy: 0.4008\n",
      "Epoch 30/300\n",
      "8/8 [==============================] - 0s 3ms/step - loss: 0.9922 - accuracy: 0.4132\n",
      "Epoch 31/300\n",
      "8/8 [==============================] - 0s 3ms/step - loss: 0.9560 - accuracy: 0.4174\n",
      "Epoch 32/300\n",
      "8/8 [==============================] - 0s 3ms/step - loss: 0.9158 - accuracy: 0.4298\n",
      "Epoch 33/300\n",
      "8/8 [==============================] - 0s 3ms/step - loss: 0.8779 - accuracy: 0.4339\n",
      "Epoch 34/300\n",
      "8/8 [==============================] - 0s 3ms/step - loss: 0.8456 - accuracy: 0.4463\n",
      "Epoch 35/300\n",
      "8/8 [==============================] - 0s 3ms/step - loss: 0.8122 - accuracy: 0.4587\n",
      "Epoch 36/300\n",
      "8/8 [==============================] - 0s 3ms/step - loss: 0.7840 - accuracy: 0.4917\n",
      "Epoch 37/300\n",
      "8/8 [==============================] - 0s 2ms/step - loss: 0.7585 - accuracy: 0.5165\n",
      "Epoch 38/300\n",
      "8/8 [==============================] - 0s 2ms/step - loss: 0.7270 - accuracy: 0.5372\n",
      "Epoch 39/300\n",
      "8/8 [==============================] - 0s 3ms/step - loss: 0.7011 - accuracy: 0.5744\n",
      "Epoch 40/300\n",
      "8/8 [==============================] - 0s 2ms/step - loss: 0.6899 - accuracy: 0.5826\n",
      "Epoch 41/300\n",
      "8/8 [==============================] - 0s 2ms/step - loss: 0.6602 - accuracy: 0.6364\n",
      "Epoch 42/300\n",
      "8/8 [==============================] - 0s 3ms/step - loss: 0.6469 - accuracy: 0.6570\n",
      "Epoch 43/300\n",
      "8/8 [==============================] - 0s 3ms/step - loss: 0.6263 - accuracy: 0.6612\n",
      "Epoch 44/300\n",
      "8/8 [==============================] - 0s 2ms/step - loss: 0.6113 - accuracy: 0.7025\n",
      "Epoch 45/300\n",
      "8/8 [==============================] - 0s 3ms/step - loss: 0.5963 - accuracy: 0.7190\n",
      "Epoch 46/300\n",
      "8/8 [==============================] - 0s 3ms/step - loss: 0.5883 - accuracy: 0.7603\n",
      "Epoch 47/300\n",
      "8/8 [==============================] - 0s 3ms/step - loss: 0.5732 - accuracy: 0.7686\n",
      "Epoch 48/300\n",
      "8/8 [==============================] - 0s 4ms/step - loss: 0.5642 - accuracy: 0.7521\n",
      "Epoch 49/300\n",
      "8/8 [==============================] - 0s 3ms/step - loss: 0.5596 - accuracy: 0.7686\n",
      "Epoch 50/300\n",
      "8/8 [==============================] - 0s 3ms/step - loss: 0.5479 - accuracy: 0.8058\n",
      "Epoch 51/300\n",
      "8/8 [==============================] - 0s 3ms/step - loss: 0.5408 - accuracy: 0.7975\n",
      "Epoch 52/300\n",
      "8/8 [==============================] - 0s 3ms/step - loss: 0.5402 - accuracy: 0.7727\n",
      "Epoch 53/300\n",
      "8/8 [==============================] - 0s 2ms/step - loss: 0.5280 - accuracy: 0.8017\n",
      "Epoch 54/300\n",
      "8/8 [==============================] - 0s 2ms/step - loss: 0.5189 - accuracy: 0.7810\n",
      "Epoch 55/300\n",
      "8/8 [==============================] - 0s 3ms/step - loss: 0.5204 - accuracy: 0.7727\n",
      "Epoch 56/300\n",
      "8/8 [==============================] - 0s 2ms/step - loss: 0.5135 - accuracy: 0.7810\n",
      "Epoch 57/300\n",
      "8/8 [==============================] - 0s 2ms/step - loss: 0.5063 - accuracy: 0.7934\n",
      "Epoch 58/300\n",
      "8/8 [==============================] - 0s 2ms/step - loss: 0.5049 - accuracy: 0.8182\n",
      "Epoch 59/300\n",
      "8/8 [==============================] - 0s 2ms/step - loss: 0.5036 - accuracy: 0.8017\n",
      "Epoch 60/300\n",
      "8/8 [==============================] - 0s 2ms/step - loss: 0.4955 - accuracy: 0.8058\n",
      "Epoch 61/300\n",
      "8/8 [==============================] - 0s 3ms/step - loss: 0.4944 - accuracy: 0.8099\n",
      "Epoch 62/300\n",
      "8/8 [==============================] - 0s 2ms/step - loss: 0.4945 - accuracy: 0.7893\n",
      "Epoch 63/300\n",
      "8/8 [==============================] - 0s 3ms/step - loss: 0.4890 - accuracy: 0.7851\n",
      "Epoch 64/300\n",
      "8/8 [==============================] - 0s 2ms/step - loss: 0.4875 - accuracy: 0.7975\n",
      "Epoch 65/300\n",
      "8/8 [==============================] - 0s 3ms/step - loss: 0.4873 - accuracy: 0.7975\n",
      "Epoch 66/300\n",
      "8/8 [==============================] - 0s 3ms/step - loss: 0.4815 - accuracy: 0.8099\n",
      "Epoch 67/300\n",
      "8/8 [==============================] - 0s 4ms/step - loss: 0.4789 - accuracy: 0.8058\n",
      "Epoch 68/300\n",
      "8/8 [==============================] - 0s 3ms/step - loss: 0.4760 - accuracy: 0.8058\n",
      "Epoch 69/300\n",
      "8/8 [==============================] - 0s 2ms/step - loss: 0.4779 - accuracy: 0.8017\n",
      "Epoch 70/300\n",
      "8/8 [==============================] - 0s 3ms/step - loss: 0.4807 - accuracy: 0.7851\n",
      "Epoch 71/300\n",
      "8/8 [==============================] - 0s 2ms/step - loss: 0.4794 - accuracy: 0.7893\n",
      "Epoch 72/300\n",
      "8/8 [==============================] - 0s 3ms/step - loss: 0.4837 - accuracy: 0.7934\n",
      "Epoch 73/300\n",
      "8/8 [==============================] - 0s 2ms/step - loss: 0.4725 - accuracy: 0.7975\n",
      "Epoch 74/300\n",
      "8/8 [==============================] - 0s 2ms/step - loss: 0.4684 - accuracy: 0.8182\n",
      "Epoch 75/300\n",
      "8/8 [==============================] - 0s 2ms/step - loss: 0.4663 - accuracy: 0.8017\n",
      "Epoch 76/300\n",
      "8/8 [==============================] - 0s 2ms/step - loss: 0.4642 - accuracy: 0.8058\n",
      "Epoch 77/300\n",
      "8/8 [==============================] - 0s 2ms/step - loss: 0.4631 - accuracy: 0.8017\n",
      "Epoch 78/300\n",
      "8/8 [==============================] - 0s 2ms/step - loss: 0.4666 - accuracy: 0.8099\n",
      "Epoch 79/300\n",
      "8/8 [==============================] - 0s 2ms/step - loss: 0.4619 - accuracy: 0.8017\n",
      "Epoch 80/300\n",
      "8/8 [==============================] - 0s 2ms/step - loss: 0.4581 - accuracy: 0.7975\n",
      "Epoch 81/300\n",
      "8/8 [==============================] - 0s 2ms/step - loss: 0.4579 - accuracy: 0.8058\n",
      "Epoch 82/300\n",
      "8/8 [==============================] - 0s 1ms/step - loss: 0.4566 - accuracy: 0.7975\n",
      "Epoch 83/300\n",
      "8/8 [==============================] - 0s 2ms/step - loss: 0.4561 - accuracy: 0.8017\n",
      "Epoch 84/300\n",
      "8/8 [==============================] - 0s 3ms/step - loss: 0.4550 - accuracy: 0.7975\n",
      "Epoch 85/300\n",
      "8/8 [==============================] - 0s 2ms/step - loss: 0.4627 - accuracy: 0.8140\n",
      "Epoch 86/300\n",
      "8/8 [==============================] - 0s 2ms/step - loss: 0.4519 - accuracy: 0.8140\n",
      "Epoch 87/300\n",
      "8/8 [==============================] - 0s 3ms/step - loss: 0.4529 - accuracy: 0.8017\n",
      "Epoch 88/300\n",
      "8/8 [==============================] - 0s 2ms/step - loss: 0.4493 - accuracy: 0.8140\n",
      "Epoch 89/300\n",
      "8/8 [==============================] - 0s 2ms/step - loss: 0.4525 - accuracy: 0.7975\n",
      "Epoch 90/300\n",
      "8/8 [==============================] - 0s 3ms/step - loss: 0.4609 - accuracy: 0.8140\n",
      "Epoch 91/300\n",
      "8/8 [==============================] - 0s 3ms/step - loss: 0.4460 - accuracy: 0.8058\n",
      "Epoch 92/300\n",
      "8/8 [==============================] - 0s 3ms/step - loss: 0.4505 - accuracy: 0.8140\n",
      "Epoch 93/300\n",
      "8/8 [==============================] - 0s 3ms/step - loss: 0.4509 - accuracy: 0.8017\n",
      "Epoch 94/300\n",
      "8/8 [==============================] - 0s 3ms/step - loss: 0.4477 - accuracy: 0.8223\n",
      "Epoch 95/300\n",
      "8/8 [==============================] - 0s 4ms/step - loss: 0.4472 - accuracy: 0.8058\n",
      "Epoch 96/300\n",
      "8/8 [==============================] - 0s 3ms/step - loss: 0.4518 - accuracy: 0.8140\n",
      "Epoch 97/300\n",
      "8/8 [==============================] - 0s 3ms/step - loss: 0.4462 - accuracy: 0.8058\n",
      "Epoch 98/300\n",
      "8/8 [==============================] - 0s 3ms/step - loss: 0.4502 - accuracy: 0.8099\n",
      "Epoch 99/300\n",
      "8/8 [==============================] - 0s 3ms/step - loss: 0.4411 - accuracy: 0.8182\n",
      "Epoch 100/300\n",
      "8/8 [==============================] - 0s 3ms/step - loss: 0.4494 - accuracy: 0.8223\n",
      "Epoch 101/300\n",
      "8/8 [==============================] - 0s 3ms/step - loss: 0.4439 - accuracy: 0.8223\n",
      "Epoch 102/300\n",
      "8/8 [==============================] - 0s 3ms/step - loss: 0.4389 - accuracy: 0.8347\n",
      "Epoch 103/300\n",
      "8/8 [==============================] - 0s 2ms/step - loss: 0.4399 - accuracy: 0.8306\n",
      "Epoch 104/300\n",
      "8/8 [==============================] - 0s 3ms/step - loss: 0.4355 - accuracy: 0.8182\n",
      "Epoch 105/300\n",
      "8/8 [==============================] - 0s 3ms/step - loss: 0.4342 - accuracy: 0.8264\n",
      "Epoch 106/300\n",
      "8/8 [==============================] - 0s 2ms/step - loss: 0.4345 - accuracy: 0.8264\n",
      "Epoch 107/300\n",
      "8/8 [==============================] - 0s 3ms/step - loss: 0.4411 - accuracy: 0.8058\n",
      "Epoch 108/300\n",
      "8/8 [==============================] - 0s 2ms/step - loss: 0.4353 - accuracy: 0.8264\n",
      "Epoch 109/300\n",
      "8/8 [==============================] - 0s 3ms/step - loss: 0.4400 - accuracy: 0.8182\n",
      "Epoch 110/300\n",
      "8/8 [==============================] - 0s 2ms/step - loss: 0.4346 - accuracy: 0.8140\n",
      "Epoch 111/300\n",
      "8/8 [==============================] - 0s 1ms/step - loss: 0.4286 - accuracy: 0.8306\n",
      "Epoch 112/300\n",
      "8/8 [==============================] - 0s 2ms/step - loss: 0.4367 - accuracy: 0.8223\n",
      "Epoch 113/300\n",
      "8/8 [==============================] - 0s 3ms/step - loss: 0.4314 - accuracy: 0.8099\n",
      "Epoch 114/300\n",
      "8/8 [==============================] - 0s 3ms/step - loss: 0.4343 - accuracy: 0.8264\n",
      "Epoch 115/300\n",
      "8/8 [==============================] - 0s 2ms/step - loss: 0.4362 - accuracy: 0.8017\n",
      "Epoch 116/300\n",
      "8/8 [==============================] - 0s 2ms/step - loss: 0.4271 - accuracy: 0.8264\n",
      "Epoch 117/300\n",
      "8/8 [==============================] - 0s 5ms/step - loss: 0.4294 - accuracy: 0.8223\n",
      "Epoch 118/300\n",
      "8/8 [==============================] - 0s 3ms/step - loss: 0.4298 - accuracy: 0.8264\n",
      "Epoch 119/300\n",
      "8/8 [==============================] - 0s 3ms/step - loss: 0.4263 - accuracy: 0.8223\n",
      "Epoch 120/300\n",
      "8/8 [==============================] - 0s 3ms/step - loss: 0.4216 - accuracy: 0.8223\n",
      "Epoch 121/300\n",
      "8/8 [==============================] - 0s 2ms/step - loss: 0.4307 - accuracy: 0.8347\n",
      "Epoch 122/300\n",
      "8/8 [==============================] - 0s 2ms/step - loss: 0.4246 - accuracy: 0.8182\n",
      "Epoch 123/300\n",
      "8/8 [==============================] - 0s 2ms/step - loss: 0.4219 - accuracy: 0.8264\n",
      "Epoch 124/300\n",
      "8/8 [==============================] - 0s 2ms/step - loss: 0.4212 - accuracy: 0.8306\n",
      "Epoch 125/300\n",
      "8/8 [==============================] - 0s 3ms/step - loss: 0.4195 - accuracy: 0.8388\n",
      "Epoch 126/300\n",
      "8/8 [==============================] - 0s 2ms/step - loss: 0.4262 - accuracy: 0.8264\n",
      "Epoch 127/300\n",
      "8/8 [==============================] - 0s 2ms/step - loss: 0.4249 - accuracy: 0.8264\n",
      "Epoch 128/300\n",
      "8/8 [==============================] - 0s 2ms/step - loss: 0.4206 - accuracy: 0.8306\n",
      "Epoch 129/300\n",
      "8/8 [==============================] - 0s 2ms/step - loss: 0.4218 - accuracy: 0.8182\n",
      "Epoch 130/300\n",
      "8/8 [==============================] - 0s 3ms/step - loss: 0.4174 - accuracy: 0.8223\n",
      "Epoch 131/300\n",
      "8/8 [==============================] - 0s 2ms/step - loss: 0.4180 - accuracy: 0.8347\n",
      "Epoch 132/300\n",
      "8/8 [==============================] - 0s 3ms/step - loss: 0.4164 - accuracy: 0.8347\n",
      "Epoch 133/300\n",
      "8/8 [==============================] - 0s 3ms/step - loss: 0.4170 - accuracy: 0.8347\n",
      "Epoch 134/300\n",
      "8/8 [==============================] - 0s 3ms/step - loss: 0.4170 - accuracy: 0.8182\n",
      "Epoch 135/300\n",
      "8/8 [==============================] - 0s 3ms/step - loss: 0.4156 - accuracy: 0.8430\n",
      "Epoch 136/300\n",
      "8/8 [==============================] - 0s 4ms/step - loss: 0.4177 - accuracy: 0.8264\n",
      "Epoch 137/300\n",
      "8/8 [==============================] - 0s 3ms/step - loss: 0.4143 - accuracy: 0.8471\n",
      "Epoch 138/300\n",
      "8/8 [==============================] - 0s 3ms/step - loss: 0.4273 - accuracy: 0.8140\n",
      "Epoch 139/300\n",
      "8/8 [==============================] - 0s 3ms/step - loss: 0.4142 - accuracy: 0.8388\n",
      "Epoch 140/300\n",
      "8/8 [==============================] - 0s 4ms/step - loss: 0.4171 - accuracy: 0.8306\n",
      "Epoch 141/300\n",
      "8/8 [==============================] - 0s 3ms/step - loss: 0.4062 - accuracy: 0.8430\n",
      "Epoch 142/300\n",
      "8/8 [==============================] - 0s 3ms/step - loss: 0.4204 - accuracy: 0.8223\n",
      "Epoch 143/300\n",
      "8/8 [==============================] - 0s 2ms/step - loss: 0.4072 - accuracy: 0.8388\n",
      "Epoch 144/300\n",
      "8/8 [==============================] - 0s 3ms/step - loss: 0.4111 - accuracy: 0.8471\n",
      "Epoch 145/300\n",
      "8/8 [==============================] - 0s 2ms/step - loss: 0.4070 - accuracy: 0.8430\n",
      "Epoch 146/300\n",
      "8/8 [==============================] - 0s 1ms/step - loss: 0.4087 - accuracy: 0.8471\n",
      "Epoch 147/300\n",
      "8/8 [==============================] - 0s 2ms/step - loss: 0.4081 - accuracy: 0.8264\n",
      "Epoch 148/300\n",
      "8/8 [==============================] - 0s 3ms/step - loss: 0.4125 - accuracy: 0.8388\n",
      "Epoch 149/300\n",
      "8/8 [==============================] - 0s 3ms/step - loss: 0.4061 - accuracy: 0.8471\n",
      "Epoch 150/300\n",
      "8/8 [==============================] - 0s 1ms/step - loss: 0.4053 - accuracy: 0.8388\n",
      "Epoch 151/300\n",
      "8/8 [==============================] - 0s 3ms/step - loss: 0.4061 - accuracy: 0.8512\n",
      "Epoch 152/300\n",
      "8/8 [==============================] - 0s 2ms/step - loss: 0.4090 - accuracy: 0.8347\n",
      "Epoch 153/300\n",
      "8/8 [==============================] - 0s 2ms/step - loss: 0.4021 - accuracy: 0.8554\n",
      "Epoch 154/300\n",
      "8/8 [==============================] - 0s 2ms/step - loss: 0.4069 - accuracy: 0.8264\n",
      "Epoch 155/300\n",
      "8/8 [==============================] - 0s 2ms/step - loss: 0.4037 - accuracy: 0.8554\n",
      "Epoch 156/300\n",
      "8/8 [==============================] - 0s 3ms/step - loss: 0.4020 - accuracy: 0.8512\n",
      "Epoch 157/300\n",
      "8/8 [==============================] - 0s 3ms/step - loss: 0.4008 - accuracy: 0.8388\n",
      "Epoch 158/300\n",
      "8/8 [==============================] - 0s 1ms/step - loss: 0.4005 - accuracy: 0.8430\n",
      "Epoch 159/300\n",
      "8/8 [==============================] - 0s 2ms/step - loss: 0.4013 - accuracy: 0.8554\n",
      "Epoch 160/300\n",
      "8/8 [==============================] - 0s 3ms/step - loss: 0.4067 - accuracy: 0.8306\n",
      "Epoch 161/300\n",
      "8/8 [==============================] - 0s 2ms/step - loss: 0.4130 - accuracy: 0.8140\n",
      "Epoch 162/300\n",
      "8/8 [==============================] - 0s 3ms/step - loss: 0.4035 - accuracy: 0.8430\n",
      "Epoch 163/300\n",
      "8/8 [==============================] - 0s 2ms/step - loss: 0.4193 - accuracy: 0.8099\n",
      "Epoch 164/300\n",
      "8/8 [==============================] - 0s 2ms/step - loss: 0.4152 - accuracy: 0.8017\n",
      "Epoch 165/300\n",
      "8/8 [==============================] - 0s 2ms/step - loss: 0.4021 - accuracy: 0.8264\n",
      "Epoch 166/300\n",
      "8/8 [==============================] - 0s 2ms/step - loss: 0.4093 - accuracy: 0.8223\n",
      "Epoch 167/300\n"
     ]
    },
    {
     "name": "stdout",
     "output_type": "stream",
     "text": [
      "8/8 [==============================] - 0s 3ms/step - loss: 0.4032 - accuracy: 0.8347\n",
      "Epoch 168/300\n",
      "8/8 [==============================] - 0s 3ms/step - loss: 0.4043 - accuracy: 0.8388\n",
      "Epoch 169/300\n",
      "8/8 [==============================] - 0s 4ms/step - loss: 0.3956 - accuracy: 0.8388\n",
      "Epoch 170/300\n",
      "8/8 [==============================] - 0s 3ms/step - loss: 0.4027 - accuracy: 0.8388\n",
      "Epoch 171/300\n",
      "8/8 [==============================] - 0s 3ms/step - loss: 0.3976 - accuracy: 0.8512\n",
      "Epoch 172/300\n",
      "8/8 [==============================] - 0s 3ms/step - loss: 0.3959 - accuracy: 0.8430\n",
      "Epoch 173/300\n",
      "8/8 [==============================] - 0s 2ms/step - loss: 0.4044 - accuracy: 0.8388\n",
      "Epoch 174/300\n",
      "8/8 [==============================] - 0s 3ms/step - loss: 0.3986 - accuracy: 0.8347\n",
      "Epoch 175/300\n",
      "8/8 [==============================] - 0s 2ms/step - loss: 0.3927 - accuracy: 0.8512\n",
      "Epoch 176/300\n",
      "8/8 [==============================] - 0s 2ms/step - loss: 0.3933 - accuracy: 0.8554\n",
      "Epoch 177/300\n",
      "8/8 [==============================] - 0s 3ms/step - loss: 0.3927 - accuracy: 0.8512\n",
      "Epoch 178/300\n",
      "8/8 [==============================] - 0s 3ms/step - loss: 0.3909 - accuracy: 0.8512\n",
      "Epoch 179/300\n",
      "8/8 [==============================] - 0s 2ms/step - loss: 0.3927 - accuracy: 0.8512\n",
      "Epoch 180/300\n",
      "8/8 [==============================] - 0s 3ms/step - loss: 0.3925 - accuracy: 0.8512\n",
      "Epoch 181/300\n",
      "8/8 [==============================] - 0s 4ms/step - loss: 0.3939 - accuracy: 0.8471\n",
      "Epoch 182/300\n",
      "8/8 [==============================] - 0s 3ms/step - loss: 0.3994 - accuracy: 0.8306\n",
      "Epoch 183/300\n",
      "8/8 [==============================] - 0s 3ms/step - loss: 0.4066 - accuracy: 0.8223\n",
      "Epoch 184/300\n",
      "8/8 [==============================] - 0s 3ms/step - loss: 0.3900 - accuracy: 0.8471\n",
      "Epoch 185/300\n",
      "8/8 [==============================] - 0s 4ms/step - loss: 0.3866 - accuracy: 0.8595\n",
      "Epoch 186/300\n",
      "8/8 [==============================] - 0s 3ms/step - loss: 0.3986 - accuracy: 0.8595\n",
      "Epoch 187/300\n",
      "8/8 [==============================] - 0s 3ms/step - loss: 0.3971 - accuracy: 0.8347\n",
      "Epoch 188/300\n",
      "8/8 [==============================] - 0s 3ms/step - loss: 0.3978 - accuracy: 0.8306\n",
      "Epoch 189/300\n",
      "8/8 [==============================] - 0s 3ms/step - loss: 0.3900 - accuracy: 0.8512\n",
      "Epoch 190/300\n",
      "8/8 [==============================] - 0s 2ms/step - loss: 0.3883 - accuracy: 0.8554\n",
      "Epoch 191/300\n",
      "8/8 [==============================] - 0s 2ms/step - loss: 0.3916 - accuracy: 0.8347\n",
      "Epoch 192/300\n",
      "8/8 [==============================] - 0s 3ms/step - loss: 0.3858 - accuracy: 0.8471\n",
      "Epoch 193/300\n",
      "8/8 [==============================] - 0s 2ms/step - loss: 0.3890 - accuracy: 0.8471\n",
      "Epoch 194/300\n",
      "8/8 [==============================] - 0s 2ms/step - loss: 0.3876 - accuracy: 0.8554\n",
      "Epoch 195/300\n",
      "8/8 [==============================] - 0s 2ms/step - loss: 0.3855 - accuracy: 0.8595\n",
      "Epoch 196/300\n",
      "8/8 [==============================] - 0s 2ms/step - loss: 0.3892 - accuracy: 0.8471\n",
      "Epoch 197/300\n",
      "8/8 [==============================] - ETA: 0s - loss: 0.4528 - accuracy: 0.87 - 0s 2ms/step - loss: 0.3873 - accuracy: 0.8471\n",
      "Epoch 198/300\n",
      "8/8 [==============================] - 0s 3ms/step - loss: 0.3929 - accuracy: 0.8554\n",
      "Epoch 199/300\n",
      "8/8 [==============================] - 0s 3ms/step - loss: 0.3948 - accuracy: 0.8264\n",
      "Epoch 200/300\n",
      "8/8 [==============================] - 0s 3ms/step - loss: 0.3854 - accuracy: 0.8512\n",
      "Epoch 201/300\n",
      "8/8 [==============================] - 0s 3ms/step - loss: 0.3937 - accuracy: 0.8430\n",
      "Epoch 202/300\n",
      "8/8 [==============================] - 0s 4ms/step - loss: 0.3890 - accuracy: 0.8636\n",
      "Epoch 203/300\n",
      "8/8 [==============================] - 0s 3ms/step - loss: 0.3867 - accuracy: 0.8636\n",
      "Epoch 204/300\n",
      "8/8 [==============================] - 0s 4ms/step - loss: 0.3902 - accuracy: 0.8347\n",
      "Epoch 205/300\n",
      "8/8 [==============================] - 0s 3ms/step - loss: 0.3867 - accuracy: 0.8512\n",
      "Epoch 206/300\n",
      "8/8 [==============================] - 0s 5ms/step - loss: 0.3823 - accuracy: 0.8388\n",
      "Epoch 207/300\n",
      "8/8 [==============================] - 0s 2ms/step - loss: 0.3828 - accuracy: 0.8388\n",
      "Epoch 208/300\n",
      "8/8 [==============================] - 0s 2ms/step - loss: 0.3839 - accuracy: 0.8471\n",
      "Epoch 209/300\n",
      "8/8 [==============================] - 0s 2ms/step - loss: 0.3999 - accuracy: 0.8223\n",
      "Epoch 210/300\n",
      "8/8 [==============================] - 0s 2ms/step - loss: 0.4016 - accuracy: 0.8223\n",
      "Epoch 211/300\n",
      "8/8 [==============================] - 0s 2ms/step - loss: 0.3965 - accuracy: 0.8182\n",
      "Epoch 212/300\n",
      "8/8 [==============================] - 0s 3ms/step - loss: 0.3856 - accuracy: 0.8388\n",
      "Epoch 213/300\n",
      "8/8 [==============================] - 0s 2ms/step - loss: 0.3822 - accuracy: 0.8430\n",
      "Epoch 214/300\n",
      "8/8 [==============================] - 0s 2ms/step - loss: 0.3800 - accuracy: 0.8512\n",
      "Epoch 215/300\n",
      "8/8 [==============================] - 0s 3ms/step - loss: 0.3866 - accuracy: 0.8388\n",
      "Epoch 216/300\n",
      "8/8 [==============================] - 0s 3ms/step - loss: 0.3823 - accuracy: 0.8347\n",
      "Epoch 217/300\n",
      "8/8 [==============================] - 0s 3ms/step - loss: 0.3815 - accuracy: 0.8512\n",
      "Epoch 218/300\n",
      "8/8 [==============================] - 0s 2ms/step - loss: 0.3839 - accuracy: 0.8471\n",
      "Epoch 219/300\n",
      "8/8 [==============================] - 0s 3ms/step - loss: 0.3806 - accuracy: 0.8471\n",
      "Epoch 220/300\n",
      "8/8 [==============================] - 0s 2ms/step - loss: 0.3822 - accuracy: 0.8430\n",
      "Epoch 221/300\n",
      "8/8 [==============================] - 0s 3ms/step - loss: 0.3836 - accuracy: 0.8471\n",
      "Epoch 222/300\n",
      "8/8 [==============================] - 0s 3ms/step - loss: 0.3786 - accuracy: 0.8512\n",
      "Epoch 223/300\n",
      "8/8 [==============================] - 0s 3ms/step - loss: 0.3788 - accuracy: 0.8512\n",
      "Epoch 224/300\n",
      "8/8 [==============================] - 0s 3ms/step - loss: 0.3806 - accuracy: 0.8512\n",
      "Epoch 225/300\n",
      "8/8 [==============================] - 0s 3ms/step - loss: 0.3802 - accuracy: 0.8430\n",
      "Epoch 226/300\n",
      "8/8 [==============================] - 0s 3ms/step - loss: 0.3816 - accuracy: 0.8471\n",
      "Epoch 227/300\n",
      "8/8 [==============================] - 0s 3ms/step - loss: 0.3797 - accuracy: 0.8471\n",
      "Epoch 228/300\n",
      "8/8 [==============================] - 0s 3ms/step - loss: 0.3780 - accuracy: 0.8471\n",
      "Epoch 229/300\n",
      "8/8 [==============================] - 0s 3ms/step - loss: 0.3775 - accuracy: 0.8471\n",
      "Epoch 230/300\n",
      "8/8 [==============================] - 0s 3ms/step - loss: 0.3787 - accuracy: 0.8595\n",
      "Epoch 231/300\n",
      "8/8 [==============================] - 0s 2ms/step - loss: 0.3818 - accuracy: 0.8388\n",
      "Epoch 232/300\n",
      "8/8 [==============================] - 0s 3ms/step - loss: 0.3961 - accuracy: 0.8182\n",
      "Epoch 233/300\n",
      "8/8 [==============================] - 0s 2ms/step - loss: 0.3873 - accuracy: 0.8430\n",
      "Epoch 234/300\n",
      "8/8 [==============================] - 0s 2ms/step - loss: 0.3839 - accuracy: 0.8306\n",
      "Epoch 235/300\n",
      "8/8 [==============================] - 0s 2ms/step - loss: 0.3896 - accuracy: 0.8388\n",
      "Epoch 236/300\n",
      "8/8 [==============================] - 0s 2ms/step - loss: 0.3939 - accuracy: 0.8223\n",
      "Epoch 237/300\n",
      "8/8 [==============================] - 0s 3ms/step - loss: 0.3957 - accuracy: 0.8140\n",
      "Epoch 238/300\n",
      "8/8 [==============================] - 0s 2ms/step - loss: 0.3832 - accuracy: 0.8388\n",
      "Epoch 239/300\n",
      "8/8 [==============================] - 0s 2ms/step - loss: 0.3771 - accuracy: 0.8430\n",
      "Epoch 240/300\n",
      "8/8 [==============================] - 0s 2ms/step - loss: 0.3829 - accuracy: 0.8430\n",
      "Epoch 241/300\n",
      "8/8 [==============================] - 0s 2ms/step - loss: 0.3755 - accuracy: 0.8512\n",
      "Epoch 242/300\n",
      "8/8 [==============================] - 0s 2ms/step - loss: 0.3772 - accuracy: 0.8471\n",
      "Epoch 243/300\n",
      "8/8 [==============================] - 0s 3ms/step - loss: 0.3823 - accuracy: 0.8306\n",
      "Epoch 244/300\n",
      "8/8 [==============================] - 0s 2ms/step - loss: 0.3729 - accuracy: 0.8430\n",
      "Epoch 245/300\n",
      "8/8 [==============================] - 0s 2ms/step - loss: 0.3790 - accuracy: 0.8554\n",
      "Epoch 246/300\n",
      "8/8 [==============================] - 0s 3ms/step - loss: 0.3749 - accuracy: 0.8512\n",
      "Epoch 247/300\n",
      "8/8 [==============================] - 0s 2ms/step - loss: 0.3740 - accuracy: 0.8347\n",
      "Epoch 248/300\n",
      "8/8 [==============================] - 0s 2ms/step - loss: 0.3778 - accuracy: 0.8430\n",
      "Epoch 249/300\n",
      "8/8 [==============================] - 0s 2ms/step - loss: 0.3716 - accuracy: 0.8554\n",
      "Epoch 250/300\n",
      "8/8 [==============================] - 0s 3ms/step - loss: 0.3770 - accuracy: 0.8306\n",
      "Epoch 251/300\n",
      "8/8 [==============================] - 0s 2ms/step - loss: 0.3732 - accuracy: 0.8554\n",
      "Epoch 252/300\n",
      "8/8 [==============================] - 0s 3ms/step - loss: 0.3747 - accuracy: 0.8430\n",
      "Epoch 253/300\n",
      "8/8 [==============================] - 0s 2ms/step - loss: 0.3766 - accuracy: 0.8512\n",
      "Epoch 254/300\n",
      "8/8 [==============================] - 0s 3ms/step - loss: 0.3706 - accuracy: 0.8554\n",
      "Epoch 255/300\n",
      "8/8 [==============================] - 0s 3ms/step - loss: 0.3788 - accuracy: 0.8347\n",
      "Epoch 256/300\n",
      "8/8 [==============================] - 0s 2ms/step - loss: 0.3810 - accuracy: 0.8430\n",
      "Epoch 257/300\n",
      "8/8 [==============================] - 0s 3ms/step - loss: 0.3785 - accuracy: 0.8388\n",
      "Epoch 258/300\n",
      "8/8 [==============================] - 0s 3ms/step - loss: 0.3785 - accuracy: 0.8512\n",
      "Epoch 259/300\n",
      "8/8 [==============================] - 0s 2ms/step - loss: 0.3697 - accuracy: 0.8512\n",
      "Epoch 260/300\n",
      "8/8 [==============================] - 0s 2ms/step - loss: 0.3730 - accuracy: 0.8595\n",
      "Epoch 261/300\n",
      "8/8 [==============================] - 0s 3ms/step - loss: 0.3728 - accuracy: 0.8512\n",
      "Epoch 262/300\n",
      "8/8 [==============================] - 0s 3ms/step - loss: 0.3730 - accuracy: 0.8471\n",
      "Epoch 263/300\n",
      "8/8 [==============================] - 0s 3ms/step - loss: 0.3703 - accuracy: 0.8554\n",
      "Epoch 264/300\n",
      "8/8 [==============================] - 0s 2ms/step - loss: 0.3872 - accuracy: 0.8306\n",
      "Epoch 265/300\n",
      "8/8 [==============================] - 0s 2ms/step - loss: 0.3768 - accuracy: 0.8512\n",
      "Epoch 266/300\n",
      "8/8 [==============================] - 0s 3ms/step - loss: 0.3719 - accuracy: 0.8471\n",
      "Epoch 267/300\n",
      "8/8 [==============================] - 0s 4ms/step - loss: 0.3720 - accuracy: 0.8430\n",
      "Epoch 268/300\n",
      "8/8 [==============================] - 0s 4ms/step - loss: 0.3704 - accuracy: 0.8512\n",
      "Epoch 269/300\n",
      "8/8 [==============================] - 0s 5ms/step - loss: 0.3694 - accuracy: 0.8554\n",
      "Epoch 270/300\n",
      "8/8 [==============================] - 0s 4ms/step - loss: 0.3681 - accuracy: 0.8430\n",
      "Epoch 271/300\n",
      "8/8 [==============================] - 0s 5ms/step - loss: 0.3734 - accuracy: 0.8595\n",
      "Epoch 272/300\n",
      "8/8 [==============================] - 0s 4ms/step - loss: 0.3711 - accuracy: 0.8388\n",
      "Epoch 273/300\n",
      "8/8 [==============================] - 0s 3ms/step - loss: 0.3715 - accuracy: 0.8512\n",
      "Epoch 274/300\n",
      "8/8 [==============================] - 0s 3ms/step - loss: 0.3775 - accuracy: 0.8347\n",
      "Epoch 275/300\n",
      "8/8 [==============================] - 0s 2ms/step - loss: 0.3890 - accuracy: 0.8388\n",
      "Epoch 276/300\n",
      "8/8 [==============================] - 0s 2ms/step - loss: 0.3835 - accuracy: 0.8306\n",
      "Epoch 277/300\n",
      "8/8 [==============================] - 0s 2ms/step - loss: 0.3679 - accuracy: 0.8347\n",
      "Epoch 278/300\n",
      "8/8 [==============================] - 0s 2ms/step - loss: 0.3775 - accuracy: 0.8471\n",
      "Epoch 279/300\n",
      "8/8 [==============================] - 0s 2ms/step - loss: 0.3732 - accuracy: 0.8471\n",
      "Epoch 280/300\n",
      "8/8 [==============================] - 0s 1ms/step - loss: 0.3665 - accuracy: 0.8554\n",
      "Epoch 281/300\n",
      "8/8 [==============================] - 0s 3ms/step - loss: 0.3855 - accuracy: 0.8264\n",
      "Epoch 282/300\n",
      "8/8 [==============================] - 0s 2ms/step - loss: 0.4019 - accuracy: 0.8140\n",
      "Epoch 283/300\n",
      "8/8 [==============================] - 0s 3ms/step - loss: 0.3744 - accuracy: 0.8388\n",
      "Epoch 284/300\n",
      "8/8 [==============================] - 0s 3ms/step - loss: 0.3881 - accuracy: 0.8430\n",
      "Epoch 285/300\n",
      "8/8 [==============================] - 0s 2ms/step - loss: 0.3723 - accuracy: 0.8388\n",
      "Epoch 286/300\n",
      "8/8 [==============================] - 0s 2ms/step - loss: 0.3673 - accuracy: 0.8554\n",
      "Epoch 287/300\n",
      "8/8 [==============================] - 0s 2ms/step - loss: 0.3726 - accuracy: 0.8554\n",
      "Epoch 288/300\n",
      "8/8 [==============================] - 0s 3ms/step - loss: 0.3691 - accuracy: 0.8347\n",
      "Epoch 289/300\n",
      "8/8 [==============================] - 0s 3ms/step - loss: 0.3819 - accuracy: 0.8347\n",
      "Epoch 290/300\n",
      "8/8 [==============================] - 0s 3ms/step - loss: 0.3934 - accuracy: 0.8264\n",
      "Epoch 291/300\n",
      "8/8 [==============================] - 0s 2ms/step - loss: 0.3869 - accuracy: 0.8347\n",
      "Epoch 292/300\n",
      "8/8 [==============================] - 0s 2ms/step - loss: 0.3875 - accuracy: 0.8223\n",
      "Epoch 293/300\n",
      "8/8 [==============================] - 0s 2ms/step - loss: 0.3684 - accuracy: 0.8595\n",
      "Epoch 294/300\n",
      "8/8 [==============================] - 0s 3ms/step - loss: 0.3672 - accuracy: 0.8512\n",
      "Epoch 295/300\n",
      "8/8 [==============================] - 0s 4ms/step - loss: 0.3756 - accuracy: 0.8388\n",
      "Epoch 296/300\n",
      "8/8 [==============================] - 0s 3ms/step - loss: 0.3690 - accuracy: 0.8595\n",
      "Epoch 297/300\n",
      "8/8 [==============================] - 0s 2ms/step - loss: 0.3663 - accuracy: 0.8595\n",
      "Epoch 298/300\n",
      "8/8 [==============================] - 0s 2ms/step - loss: 0.3687 - accuracy: 0.8388\n",
      "Epoch 299/300\n",
      "8/8 [==============================] - 0s 3ms/step - loss: 0.3672 - accuracy: 0.8347\n",
      "Epoch 300/300\n",
      "8/8 [==============================] - 0s 3ms/step - loss: 0.3804 - accuracy: 0.8306\n"
     ]
    },
    {
     "data": {
      "text/plain": [
       "<tensorflow.python.keras.callbacks.History at 0x17b8ca86cd0>"
      ]
     },
     "execution_count": 84,
     "metadata": {},
     "output_type": "execute_result"
    }
   ],
   "source": [
    "model.fit(X_train,Y_train,epochs=300)"
   ]
  },
  {
   "cell_type": "code",
   "execution_count": 85,
   "metadata": {},
   "outputs": [],
   "source": [
    "Y_pred_nn = model.predict(X_test)"
   ]
  },
  {
   "cell_type": "code",
   "execution_count": 86,
   "metadata": {},
   "outputs": [
    {
     "data": {
      "text/plain": [
       "(61, 1)"
      ]
     },
     "execution_count": 86,
     "metadata": {},
     "output_type": "execute_result"
    }
   ],
   "source": [
    "Y_pred_nn.shape"
   ]
  },
  {
   "cell_type": "code",
   "execution_count": 87,
   "metadata": {},
   "outputs": [],
   "source": [
    "rounded = [round(x[0]) for x in Y_pred_nn]\n",
    "\n",
    "Y_pred_nn = rounded"
   ]
  },
  {
   "cell_type": "code",
   "execution_count": 88,
   "metadata": {},
   "outputs": [
    {
     "name": "stdout",
     "output_type": "stream",
     "text": [
      "The accuracy score achieved using Neural Network is: 81.97 %\n"
     ]
    }
   ],
   "source": [
    "score_nn = round(accuracy_score(Y_pred_nn,Y_test)*100,2)\n",
    "\n",
    "print(\"The accuracy score achieved using Neural Network is: \"+str(score_nn)+\" %\")\n",
    "\n",
    "#Note: Accuracy of 85% can be achieved on the test set, by setting epochs=2000, and number of nodes = 11. "
   ]
  },
  {
   "cell_type": "code",
   "execution_count": 89,
   "metadata": {
    "scrolled": false
   },
   "outputs": [
    {
     "name": "stdout",
     "output_type": "stream",
     "text": [
      "The accuracy score achieved using Logistic Regression is: 85.25 %\n",
      "The accuracy score achieved using Naive Bayes is: 85.25 %\n",
      "The accuracy score achieved using Support Vector Machine is: 81.97 %\n",
      "The accuracy score achieved using K-Nearest Neighbors is: 67.21 %\n",
      "The accuracy score achieved using Decision Tree is: 81.97 %\n",
      "The accuracy score achieved using Random Forest is: 90.16 %\n",
      "The accuracy score achieved using XGBoost is: 78.69 %\n",
      "The accuracy score achieved using Neural Network is: 81.97 %\n"
     ]
    }
   ],
   "source": [
    "scores = [score_lr,score_nb,score_svm,score_knn,score_dt,score_rf,score_xgb,score_nn]\n",
    "algorithms = [\"Logistic Regression\",\"Naive Bayes\",\"Support Vector Machine\",\"K-Nearest Neighbors\",\"Decision Tree\",\"Random Forest\",\"XGBoost\",\"Neural Network\"]    \n",
    "\n",
    "for i in range(len(algorithms)):\n",
    "    print(\"The accuracy score achieved using \"+algorithms[i]+\" is: \"+str(scores[i])+\" %\")"
   ]
  },
  {
   "cell_type": "code",
   "execution_count": 87,
   "metadata": {},
   "outputs": [
    {
     "data": {
      "text/plain": [
       "<AxesSubplot:xlabel='Algorithms', ylabel='Accuracy score'>"
      ]
     },
     "execution_count": 87,
     "metadata": {},
     "output_type": "execute_result"
    },
    {
     "data": {
      "image/png": "[encoded data removed]",
      "text/plain": [
       "<Figure size 1080x576 with 1 Axes>"
      ]
     },
     "metadata": {},
     "output_type": "display_data"
    }
   ],
   "source": [
    "sns.set(rc={'figure.figsize':(15,8)})\n",
    "plt.xlabel(\"Algorithms\")\n",
    "plt.ylabel(\"Accuracy score\")\n",
    "\n",
    "sns.barplot(algorithms,scores)"
   ]
  },
  {
   "cell_type": "code",
   "execution_count": null,
   "metadata": {},
   "outputs": [],
   "source": []
  }
 ],
 "metadata": {
  "kernelspec": {
   "display_name": "Python 3.9.5 64-bit",
   "language": "python",
   "name": "python3"
  },
  "language_info": {
   "codemirror_mode": {
    "name": "ipython",
    "version": 3
   },
   "file_extension": ".py",
   "mimetype": "text/x-python",
   "name": "python",
   "nbconvert_exporter": "python",
   "pygments_lexer": "ipython3",
   "version": "3.9.5"
  },
  "vscode": {
   "interpreter": {
    "hash": "81794d4967e6c3204c66dcd87b604927b115b27c00565d3d43f05ba2f3a2cb0d"
   }
  }
 },
 "nbformat": 4,
 "nbformat_minor": 4
}
